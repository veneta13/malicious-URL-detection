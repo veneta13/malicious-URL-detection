{
 "cells": [
  {
   "metadata": {},
   "cell_type": "markdown",
   "source": [
    "# Malicious URL Detection\n",
    "\n",
    "[Data Source](https://www.kaggle.com/datasets/sid321axn/malicious-urls-dataset)"
   ],
   "id": "13d1b17c8ab12c76"
  },
  {
   "cell_type": "code",
   "id": "initial_id",
   "metadata": {
    "collapsed": true,
    "ExecuteTime": {
     "end_time": "2025-02-05T20:19:02.879497Z",
     "start_time": "2025-02-05T20:19:02.385499Z"
    }
   },
   "source": [
    "import string\n",
    "import re\n",
    "\n",
    "from nltk.corpus import words\n",
    "\n",
    "import numpy as np\n",
    "import pandas as pd\n",
    "import matplotlib.pyplot as plt\n",
    "import seaborn as sns\n",
    "\n",
    "from itertools import product\n",
    "\n",
    "from scipy import stats\n",
    "\n",
    "from pycm import ConfusionMatrix\n",
    "\n",
    "from imblearn.under_sampling import RandomUnderSampler\n",
    "\n",
    "from sklearn.preprocessing import StandardScaler\n",
    "from sklearn.metrics import classification_report, f1_score, accuracy_score\n",
    "from sklearn.model_selection import cross_validate, train_test_split, GridSearchCV\n",
    "from sklearn.linear_model import LogisticRegression\n",
    "from sklearn.neighbors import KNeighborsClassifier\n",
    "from sklearn.tree import DecisionTreeClassifier\n",
    "from sklearn.ensemble import RandomForestClassifier, GradientBoostingClassifier"
   ],
   "outputs": [],
   "execution_count": 1
  },
  {
   "metadata": {
    "ExecuteTime": {
     "end_time": "2025-02-05T20:19:03.461660Z",
     "start_time": "2025-02-05T20:19:02.881502Z"
    }
   },
   "cell_type": "code",
   "source": [
    "df = pd.read_csv(\"data/malicious_phish.csv\", header=0)\n",
    "df.head()"
   ],
   "id": "3663d388083b0abc",
   "outputs": [
    {
     "data": {
      "text/plain": [
       "                                                 url        type\n",
       "0                                   br-icloud.com.br    phishing\n",
       "1                mp3raid.com/music/krizz_kaliko.html      benign\n",
       "2                    bopsecrets.org/rexroth/cr/1.htm      benign\n",
       "3  http://www.garage-pirenne.be/index.php?option=...  defacement\n",
       "4  http://adventure-nicaragua.net/index.php?optio...  defacement"
      ],
      "text/html": [
       "<div>\n",
       "<style scoped>\n",
       "    .dataframe tbody tr th:only-of-type {\n",
       "        vertical-align: middle;\n",
       "    }\n",
       "\n",
       "    .dataframe tbody tr th {\n",
       "        vertical-align: top;\n",
       "    }\n",
       "\n",
       "    .dataframe thead th {\n",
       "        text-align: right;\n",
       "    }\n",
       "</style>\n",
       "<table border=\"1\" class=\"dataframe\">\n",
       "  <thead>\n",
       "    <tr style=\"text-align: right;\">\n",
       "      <th></th>\n",
       "      <th>url</th>\n",
       "      <th>type</th>\n",
       "    </tr>\n",
       "  </thead>\n",
       "  <tbody>\n",
       "    <tr>\n",
       "      <th>0</th>\n",
       "      <td>br-icloud.com.br</td>\n",
       "      <td>phishing</td>\n",
       "    </tr>\n",
       "    <tr>\n",
       "      <th>1</th>\n",
       "      <td>mp3raid.com/music/krizz_kaliko.html</td>\n",
       "      <td>benign</td>\n",
       "    </tr>\n",
       "    <tr>\n",
       "      <th>2</th>\n",
       "      <td>bopsecrets.org/rexroth/cr/1.htm</td>\n",
       "      <td>benign</td>\n",
       "    </tr>\n",
       "    <tr>\n",
       "      <th>3</th>\n",
       "      <td>http://www.garage-pirenne.be/index.php?option=...</td>\n",
       "      <td>defacement</td>\n",
       "    </tr>\n",
       "    <tr>\n",
       "      <th>4</th>\n",
       "      <td>http://adventure-nicaragua.net/index.php?optio...</td>\n",
       "      <td>defacement</td>\n",
       "    </tr>\n",
       "  </tbody>\n",
       "</table>\n",
       "</div>"
      ]
     },
     "execution_count": 2,
     "metadata": {},
     "output_type": "execute_result"
    }
   ],
   "execution_count": 2
  },
  {
   "metadata": {},
   "cell_type": "markdown",
   "source": "## EDA",
   "id": "5d1797e3613d1ec8"
  },
  {
   "metadata": {
    "ExecuteTime": {
     "end_time": "2025-02-05T20:19:03.697493Z",
     "start_time": "2025-02-05T20:19:03.655572Z"
    }
   },
   "cell_type": "code",
   "source": "df.info()",
   "id": "bc776baf46c24e91",
   "outputs": [
    {
     "name": "stdout",
     "output_type": "stream",
     "text": [
      "<class 'pandas.core.frame.DataFrame'>\n",
      "RangeIndex: 651191 entries, 0 to 651190\n",
      "Data columns (total 2 columns):\n",
      " #   Column  Non-Null Count   Dtype \n",
      "---  ------  --------------   ----- \n",
      " 0   url     651191 non-null  object\n",
      " 1   type    651191 non-null  object\n",
      "dtypes: object(2)\n",
      "memory usage: 9.9+ MB\n"
     ]
    }
   ],
   "execution_count": 3
  },
  {
   "metadata": {
    "ExecuteTime": {
     "end_time": "2025-02-05T20:19:03.836762Z",
     "start_time": "2025-02-05T20:19:03.805352Z"
    }
   },
   "cell_type": "code",
   "source": "df[\"type\"].value_counts(normalize=True)",
   "id": "8e7b1ec1d056c028",
   "outputs": [
    {
     "data": {
      "text/plain": [
       "type\n",
       "benign        0.657415\n",
       "defacement    0.148124\n",
       "phishing      0.144521\n",
       "malware       0.049939\n",
       "Name: proportion, dtype: float64"
      ]
     },
     "execution_count": 4,
     "metadata": {},
     "output_type": "execute_result"
    }
   ],
   "execution_count": 4
  },
  {
   "metadata": {
    "ExecuteTime": {
     "end_time": "2025-02-05T20:19:03.883529Z",
     "start_time": "2025-02-05T20:19:03.881075Z"
    }
   },
   "cell_type": "code",
   "source": [
    "def separate_http(text):\n",
    "    if \"http://\" in text:\n",
    "        return -1\n",
    "    if \"https://\" in text:\n",
    "        return 1\n",
    "    else:\n",
    "        return 0"
   ],
   "id": "83a0705368ffe224",
   "outputs": [],
   "execution_count": 5
  },
  {
   "metadata": {
    "ExecuteTime": {
     "end_time": "2025-02-05T20:19:04.097473Z",
     "start_time": "2025-02-05T20:19:03.926893Z"
    }
   },
   "cell_type": "code",
   "source": "df[\"encrypted\"] = df[\"url\"].copy().apply(separate_http)",
   "id": "a62c23caad452953",
   "outputs": [],
   "execution_count": 6
  },
  {
   "metadata": {
    "ExecuteTime": {
     "end_time": "2025-02-05T20:19:04.111802Z",
     "start_time": "2025-02-05T20:19:04.103610Z"
    }
   },
   "cell_type": "code",
   "source": "df[\"encrypted\"].value_counts(normalize=True)",
   "id": "5483f9390a519602",
   "outputs": [
    {
     "data": {
      "text/plain": [
       "encrypted\n",
       " 0    0.711303\n",
       "-1    0.264720\n",
       " 1    0.023978\n",
       "Name: proportion, dtype: float64"
      ]
     },
     "execution_count": 7,
     "metadata": {},
     "output_type": "execute_result"
    }
   ],
   "execution_count": 7
  },
  {
   "metadata": {
    "ExecuteTime": {
     "end_time": "2025-02-05T20:19:04.478693Z",
     "start_time": "2025-02-05T20:19:04.204514Z"
    }
   },
   "cell_type": "code",
   "source": [
    "grouped = df.groupby(\"type\")[\"encrypted\"].value_counts().unstack(fill_value=0)\n",
    "\n",
    "fig, axes = plt.subplots(2, 2, figsize=(10, 10))\n",
    "axes = axes.flatten()\n",
    "\n",
    "for idx, (group, counts) in enumerate(grouped.iterrows()):\n",
    "    renamed_labels = [\"HTTP\", \"Unknown\", \"HTTPS\"]\n",
    "    axes[idx].pie(counts, labels=None, autopct=\"%1.1f%%\", labeldistance=1.1)\n",
    "    axes[idx].set_title(f\"{group}\")\n",
    "    axes[idx].legend(renamed_labels, loc=\"upper right\")\n",
    "\n",
    "for ax in axes[len(grouped):]:\n",
    "    ax.axis(\"off\")\n",
    "\n",
    "plt.show()"
   ],
   "id": "488c2c188c5ae1ea",
   "outputs": [
    {
     "data": {
      "text/plain": [
       "<Figure size 1000x1000 with 4 Axes>"
      ],
      "image/png": "[encoded data removed]"
     },
     "metadata": {},
     "output_type": "display_data"
    }
   ],
   "execution_count": 8
  },
  {
   "metadata": {
    "ExecuteTime": {
     "end_time": "2025-02-05T20:19:04.504733Z",
     "start_time": "2025-02-05T20:19:04.501653Z"
    }
   },
   "cell_type": "code",
   "source": [
    "def count_letters(text):\n",
    "   return len(list(filter(lambda c: c in string.ascii_letters, text)))"
   ],
   "id": "ea23eebf3047fdd2",
   "outputs": [],
   "execution_count": 9
  },
  {
   "metadata": {
    "ExecuteTime": {
     "end_time": "2025-02-05T20:19:04.515861Z",
     "start_time": "2025-02-05T20:19:04.511862Z"
    }
   },
   "cell_type": "code",
   "source": [
    "def count_other_symbols(text):\n",
    "   return len(list(filter(lambda c: c not in string.ascii_letters, text)))"
   ],
   "id": "d9fc47d24e01c215",
   "outputs": [],
   "execution_count": 10
  },
  {
   "metadata": {
    "ExecuteTime": {
     "end_time": "2025-02-05T20:19:06.731738Z",
     "start_time": "2025-02-05T20:19:04.545882Z"
    }
   },
   "cell_type": "code",
   "source": "df[\"letter_count\"] = df[\"url\"].copy().apply(count_letters)",
   "id": "2cb333f803a3435a",
   "outputs": [],
   "execution_count": 11
  },
  {
   "metadata": {
    "ExecuteTime": {
     "end_time": "2025-02-05T20:19:09.157108Z",
     "start_time": "2025-02-05T20:19:06.736994Z"
    }
   },
   "cell_type": "code",
   "source": "df[\"count_symbols\"] = df[\"url\"].copy().apply(count_other_symbols)",
   "id": "c1b38b8ba585b706",
   "outputs": [],
   "execution_count": 12
  },
  {
   "metadata": {
    "ExecuteTime": {
     "end_time": "2025-02-05T20:20:15.339846Z",
     "start_time": "2025-02-05T20:19:09.169572Z"
    }
   },
   "cell_type": "code",
   "source": [
    "fig, (ax1, ax2) = plt.subplots(1, 2, figsize=(12, 6))\n",
    "\n",
    "ax2.set_xlim(0, 600)\n",
    "ax2.set_ylim(0, 600)\n",
    "\n",
    "sns.scatterplot(\n",
    "    data=df,\n",
    "    x=\"letter_count\",\n",
    "    y=\"count_symbols\",\n",
    "    hue=\"type\",\n",
    "    alpha=0.2,\n",
    "    ax=ax1\n",
    ")\n",
    "\n",
    "sns.scatterplot(\n",
    "    data=df,\n",
    "    x=\"letter_count\",\n",
    "    y=\"count_symbols\",\n",
    "    hue=\"type\",\n",
    "    alpha=0.2,\n",
    "    ax=ax2\n",
    ")\n",
    "\n",
    "plt.legend(loc=\"upper right\")"
   ],
   "id": "dc9abc681c0f273f",
   "outputs": [
    {
     "data": {
      "text/plain": [
       "<matplotlib.legend.Legend at 0x1a25a0d6010>"
      ]
     },
     "execution_count": 13,
     "metadata": {},
     "output_type": "execute_result"
    },
    {
     "data": {
      "text/plain": [
       "<Figure size 1200x600 with 2 Axes>"
      ],
      "image/png": "[encoded data removed]"
     },
     "metadata": {},
     "output_type": "display_data"
    }
   ],
   "execution_count": 13
  },
  {
   "metadata": {
    "ExecuteTime": {
     "end_time": "2025-02-05T20:20:15.370868Z",
     "start_time": "2025-02-05T20:20:15.367727Z"
    }
   },
   "cell_type": "code",
   "source": [
    "def count_symbol(text, symbol):\n",
    "   return text.count(symbol)"
   ],
   "id": "2a47cbb63b206e5",
   "outputs": [],
   "execution_count": 14
  },
  {
   "metadata": {
    "ExecuteTime": {
     "end_time": "2025-02-05T20:20:17.486215Z",
     "start_time": "2025-02-05T20:20:15.399879Z"
    }
   },
   "cell_type": "code",
   "source": [
    "symbols = [\"=\", \"\\\\\", \"&\", \"%\", \"$\", \"-\", \"?\", \"/\", \";\"]\n",
    "\n",
    "for symbol in symbols:\n",
    "    df[f\"count_{symbol}\"] = df[\"url\"].copy().apply(lambda x: count_symbol(x, symbol))"
   ],
   "id": "bdce9226c1861c26",
   "outputs": [],
   "execution_count": 15
  },
  {
   "metadata": {
    "ExecuteTime": {
     "end_time": "2025-02-05T20:20:18.032579Z",
     "start_time": "2025-02-05T20:20:17.503796Z"
    }
   },
   "cell_type": "code",
   "source": [
    "fig, axes = plt.subplots(2, 2, figsize=(10, 10), sharex=True)\n",
    "axes = axes.flatten()\n",
    "\n",
    "for idx, url_type in enumerate(df[\"type\"].unique()):\n",
    "    sub_df = df[df[\"type\"] == url_type]\n",
    "    axes[idx].hist(sub_df[\"count_/\"], bins=40)\n",
    "    axes[idx].set_title(f\"{url_type}\")\n",
    "\n",
    "for ax in axes[len(grouped):]:\n",
    "    ax.axis(\"off\")\n",
    "\n",
    "plt.show()"
   ],
   "id": "2cb1bd112ca1183d",
   "outputs": [
    {
     "data": {
      "text/plain": [
       "<Figure size 1000x1000 with 4 Axes>"
      ],
      "image/png": "[encoded data removed]"
     },
     "metadata": {},
     "output_type": "display_data"
    }
   ],
   "execution_count": 16
  },
  {
   "metadata": {
    "ExecuteTime": {
     "end_time": "2025-02-05T20:20:19.878024Z",
     "start_time": "2025-02-05T20:20:18.047190Z"
    }
   },
   "cell_type": "code",
   "source": [
    "df[\"contains_ip\"] = df[\"url\"].apply(\n",
    "    lambda x: re.findall(r\"\\b\\d{1,3}\\.\\d{1,3}\\.\\d{1,3}\\.\\d{1,3}\\b\", x)\n",
    ").apply(\n",
    "    lambda x: False if x == [] else True\n",
    ")"
   ],
   "id": "4d27ba1ccce91162",
   "outputs": [],
   "execution_count": 17
  },
  {
   "metadata": {
    "ExecuteTime": {
     "end_time": "2025-02-05T20:20:19.901612Z",
     "start_time": "2025-02-05T20:20:19.890077Z"
    }
   },
   "cell_type": "code",
   "source": "df",
   "id": "b86ecbef9b6ea93e",
   "outputs": [
    {
     "data": {
      "text/plain": [
       "                                                      url        type  \\\n",
       "0                                        br-icloud.com.br    phishing   \n",
       "1                     mp3raid.com/music/krizz_kaliko.html      benign   \n",
       "2                         bopsecrets.org/rexroth/cr/1.htm      benign   \n",
       "3       http://www.garage-pirenne.be/index.php?option=...  defacement   \n",
       "4       http://adventure-nicaragua.net/index.php?optio...  defacement   \n",
       "...                                                   ...         ...   \n",
       "651186            xbox360.ign.com/objects/850/850402.html    phishing   \n",
       "651187       games.teamxbox.com/xbox-360/1860/Dead-Space/    phishing   \n",
       "651188         www.gamespot.com/xbox360/action/deadspace/    phishing   \n",
       "651189      en.wikipedia.org/wiki/Dead_Space_(video_game)    phishing   \n",
       "651190          www.angelfire.com/goth/devilmaycrytonite/    phishing   \n",
       "\n",
       "        encrypted  letter_count  count_symbols  count_=  count_\\  count_&  \\\n",
       "0               0            13              3        0        0        0   \n",
       "1               0            29              6        0        0        0   \n",
       "2               0            25              6        0        0        0   \n",
       "3              -1            63             25        4        0        3   \n",
       "4              -1           199             36        3        0        2   \n",
       "...           ...           ...            ...      ...      ...      ...   \n",
       "651186          0            21             18        0        0        0   \n",
       "651187          0            29             15        0        0        0   \n",
       "651188          0            33              9        0        0        0   \n",
       "651189          0            36              9        0        0        0   \n",
       "651190          0            36              5        0        0        0   \n",
       "\n",
       "        count_%  count_$  count_-  count_?  count_/  count_;  contains_ip  \n",
       "0             0        0        1        0        0        0        False  \n",
       "1             0        0        0        0        2        0        False  \n",
       "2             0        0        0        0        3        0        False  \n",
       "3             0        0        1        1        3        0        False  \n",
       "4             0        0        1        1        3        0        False  \n",
       "...         ...      ...      ...      ...      ...      ...          ...  \n",
       "651186        0        0        0        0        3        0        False  \n",
       "651187        0        0        2        0        4        0        False  \n",
       "651188        0        0        0        0        4        0        False  \n",
       "651189        0        0        0        0        2        0        False  \n",
       "651190        0        0        0        0        3        0        False  \n",
       "\n",
       "[651191 rows x 15 columns]"
      ],
      "text/html": [
       "<div>\n",
       "<style scoped>\n",
       "    .dataframe tbody tr th:only-of-type {\n",
       "        vertical-align: middle;\n",
       "    }\n",
       "\n",
       "    .dataframe tbody tr th {\n",
       "        vertical-align: top;\n",
       "    }\n",
       "\n",
       "    .dataframe thead th {\n",
       "        text-align: right;\n",
       "    }\n",
       "</style>\n",
       "<table border=\"1\" class=\"dataframe\">\n",
       "  <thead>\n",
       "    <tr style=\"text-align: right;\">\n",
       "      <th></th>\n",
       "      <th>url</th>\n",
       "      <th>type</th>\n",
       "      <th>encrypted</th>\n",
       "      <th>letter_count</th>\n",
       "      <th>count_symbols</th>\n",
       "      <th>count_=</th>\n",
       "      <th>count_\\</th>\n",
       "      <th>count_&amp;</th>\n",
       "      <th>count_%</th>\n",
       "      <th>count_$</th>\n",
       "      <th>count_-</th>\n",
       "      <th>count_?</th>\n",
       "      <th>count_/</th>\n",
       "      <th>count_;</th>\n",
       "      <th>contains_ip</th>\n",
       "    </tr>\n",
       "  </thead>\n",
       "  <tbody>\n",
       "    <tr>\n",
       "      <th>0</th>\n",
       "      <td>br-icloud.com.br</td>\n",
       "      <td>phishing</td>\n",
       "      <td>0</td>\n",
       "      <td>13</td>\n",
       "      <td>3</td>\n",
       "      <td>0</td>\n",
       "      <td>0</td>\n",
       "      <td>0</td>\n",
       "      <td>0</td>\n",
       "      <td>0</td>\n",
       "      <td>1</td>\n",
       "      <td>0</td>\n",
       "      <td>0</td>\n",
       "      <td>0</td>\n",
       "      <td>False</td>\n",
       "    </tr>\n",
       "    <tr>\n",
       "      <th>1</th>\n",
       "      <td>mp3raid.com/music/krizz_kaliko.html</td>\n",
       "      <td>benign</td>\n",
       "      <td>0</td>\n",
       "      <td>29</td>\n",
       "      <td>6</td>\n",
       "      <td>0</td>\n",
       "      <td>0</td>\n",
       "      <td>0</td>\n",
       "      <td>0</td>\n",
       "      <td>0</td>\n",
       "      <td>0</td>\n",
       "      <td>0</td>\n",
       "      <td>2</td>\n",
       "      <td>0</td>\n",
       "      <td>False</td>\n",
       "    </tr>\n",
       "    <tr>\n",
       "      <th>2</th>\n",
       "      <td>bopsecrets.org/rexroth/cr/1.htm</td>\n",
       "      <td>benign</td>\n",
       "      <td>0</td>\n",
       "      <td>25</td>\n",
       "      <td>6</td>\n",
       "      <td>0</td>\n",
       "      <td>0</td>\n",
       "      <td>0</td>\n",
       "      <td>0</td>\n",
       "      <td>0</td>\n",
       "      <td>0</td>\n",
       "      <td>0</td>\n",
       "      <td>3</td>\n",
       "      <td>0</td>\n",
       "      <td>False</td>\n",
       "    </tr>\n",
       "    <tr>\n",
       "      <th>3</th>\n",
       "      <td>http://www.garage-pirenne.be/index.php?option=...</td>\n",
       "      <td>defacement</td>\n",
       "      <td>-1</td>\n",
       "      <td>63</td>\n",
       "      <td>25</td>\n",
       "      <td>4</td>\n",
       "      <td>0</td>\n",
       "      <td>3</td>\n",
       "      <td>0</td>\n",
       "      <td>0</td>\n",
       "      <td>1</td>\n",
       "      <td>1</td>\n",
       "      <td>3</td>\n",
       "      <td>0</td>\n",
       "      <td>False</td>\n",
       "    </tr>\n",
       "    <tr>\n",
       "      <th>4</th>\n",
       "      <td>http://adventure-nicaragua.net/index.php?optio...</td>\n",
       "      <td>defacement</td>\n",
       "      <td>-1</td>\n",
       "      <td>199</td>\n",
       "      <td>36</td>\n",
       "      <td>3</td>\n",
       "      <td>0</td>\n",
       "      <td>2</td>\n",
       "      <td>0</td>\n",
       "      <td>0</td>\n",
       "      <td>1</td>\n",
       "      <td>1</td>\n",
       "      <td>3</td>\n",
       "      <td>0</td>\n",
       "      <td>False</td>\n",
       "    </tr>\n",
       "    <tr>\n",
       "      <th>...</th>\n",
       "      <td>...</td>\n",
       "      <td>...</td>\n",
       "      <td>...</td>\n",
       "      <td>...</td>\n",
       "      <td>...</td>\n",
       "      <td>...</td>\n",
       "      <td>...</td>\n",
       "      <td>...</td>\n",
       "      <td>...</td>\n",
       "      <td>...</td>\n",
       "      <td>...</td>\n",
       "      <td>...</td>\n",
       "      <td>...</td>\n",
       "      <td>...</td>\n",
       "      <td>...</td>\n",
       "    </tr>\n",
       "    <tr>\n",
       "      <th>651186</th>\n",
       "      <td>xbox360.ign.com/objects/850/850402.html</td>\n",
       "      <td>phishing</td>\n",
       "      <td>0</td>\n",
       "      <td>21</td>\n",
       "      <td>18</td>\n",
       "      <td>0</td>\n",
       "      <td>0</td>\n",
       "      <td>0</td>\n",
       "      <td>0</td>\n",
       "      <td>0</td>\n",
       "      <td>0</td>\n",
       "      <td>0</td>\n",
       "      <td>3</td>\n",
       "      <td>0</td>\n",
       "      <td>False</td>\n",
       "    </tr>\n",
       "    <tr>\n",
       "      <th>651187</th>\n",
       "      <td>games.teamxbox.com/xbox-360/1860/Dead-Space/</td>\n",
       "      <td>phishing</td>\n",
       "      <td>0</td>\n",
       "      <td>29</td>\n",
       "      <td>15</td>\n",
       "      <td>0</td>\n",
       "      <td>0</td>\n",
       "      <td>0</td>\n",
       "      <td>0</td>\n",
       "      <td>0</td>\n",
       "      <td>2</td>\n",
       "      <td>0</td>\n",
       "      <td>4</td>\n",
       "      <td>0</td>\n",
       "      <td>False</td>\n",
       "    </tr>\n",
       "    <tr>\n",
       "      <th>651188</th>\n",
       "      <td>www.gamespot.com/xbox360/action/deadspace/</td>\n",
       "      <td>phishing</td>\n",
       "      <td>0</td>\n",
       "      <td>33</td>\n",
       "      <td>9</td>\n",
       "      <td>0</td>\n",
       "      <td>0</td>\n",
       "      <td>0</td>\n",
       "      <td>0</td>\n",
       "      <td>0</td>\n",
       "      <td>0</td>\n",
       "      <td>0</td>\n",
       "      <td>4</td>\n",
       "      <td>0</td>\n",
       "      <td>False</td>\n",
       "    </tr>\n",
       "    <tr>\n",
       "      <th>651189</th>\n",
       "      <td>en.wikipedia.org/wiki/Dead_Space_(video_game)</td>\n",
       "      <td>phishing</td>\n",
       "      <td>0</td>\n",
       "      <td>36</td>\n",
       "      <td>9</td>\n",
       "      <td>0</td>\n",
       "      <td>0</td>\n",
       "      <td>0</td>\n",
       "      <td>0</td>\n",
       "      <td>0</td>\n",
       "      <td>0</td>\n",
       "      <td>0</td>\n",
       "      <td>2</td>\n",
       "      <td>0</td>\n",
       "      <td>False</td>\n",
       "    </tr>\n",
       "    <tr>\n",
       "      <th>651190</th>\n",
       "      <td>www.angelfire.com/goth/devilmaycrytonite/</td>\n",
       "      <td>phishing</td>\n",
       "      <td>0</td>\n",
       "      <td>36</td>\n",
       "      <td>5</td>\n",
       "      <td>0</td>\n",
       "      <td>0</td>\n",
       "      <td>0</td>\n",
       "      <td>0</td>\n",
       "      <td>0</td>\n",
       "      <td>0</td>\n",
       "      <td>0</td>\n",
       "      <td>3</td>\n",
       "      <td>0</td>\n",
       "      <td>False</td>\n",
       "    </tr>\n",
       "  </tbody>\n",
       "</table>\n",
       "<p>651191 rows × 15 columns</p>\n",
       "</div>"
      ]
     },
     "execution_count": 18,
     "metadata": {},
     "output_type": "execute_result"
    }
   ],
   "execution_count": 18
  },
  {
   "metadata": {
    "ExecuteTime": {
     "end_time": "2025-02-05T20:20:20.024421Z",
     "start_time": "2025-02-05T20:20:19.964210Z"
    }
   },
   "cell_type": "code",
   "source": "df.groupby(\"type\")[\"contains_ip\"].value_counts().unstack(fill_value=0)",
   "id": "6e02b110f6be49c2",
   "outputs": [
    {
     "data": {
      "text/plain": [
       "contains_ip   False  True \n",
       "type                      \n",
       "benign       427932    171\n",
       "defacement    96457      0\n",
       "malware       20732  11788\n",
       "phishing      93702    409"
      ],
      "text/html": [
       "<div>\n",
       "<style scoped>\n",
       "    .dataframe tbody tr th:only-of-type {\n",
       "        vertical-align: middle;\n",
       "    }\n",
       "\n",
       "    .dataframe tbody tr th {\n",
       "        vertical-align: top;\n",
       "    }\n",
       "\n",
       "    .dataframe thead th {\n",
       "        text-align: right;\n",
       "    }\n",
       "</style>\n",
       "<table border=\"1\" class=\"dataframe\">\n",
       "  <thead>\n",
       "    <tr style=\"text-align: right;\">\n",
       "      <th>contains_ip</th>\n",
       "      <th>False</th>\n",
       "      <th>True</th>\n",
       "    </tr>\n",
       "    <tr>\n",
       "      <th>type</th>\n",
       "      <th></th>\n",
       "      <th></th>\n",
       "    </tr>\n",
       "  </thead>\n",
       "  <tbody>\n",
       "    <tr>\n",
       "      <th>benign</th>\n",
       "      <td>427932</td>\n",
       "      <td>171</td>\n",
       "    </tr>\n",
       "    <tr>\n",
       "      <th>defacement</th>\n",
       "      <td>96457</td>\n",
       "      <td>0</td>\n",
       "    </tr>\n",
       "    <tr>\n",
       "      <th>malware</th>\n",
       "      <td>20732</td>\n",
       "      <td>11788</td>\n",
       "    </tr>\n",
       "    <tr>\n",
       "      <th>phishing</th>\n",
       "      <td>93702</td>\n",
       "      <td>409</td>\n",
       "    </tr>\n",
       "  </tbody>\n",
       "</table>\n",
       "</div>"
      ]
     },
     "execution_count": 19,
     "metadata": {},
     "output_type": "execute_result"
    }
   ],
   "execution_count": 19
  },
  {
   "metadata": {
    "ExecuteTime": {
     "end_time": "2025-02-05T20:20:23.545248Z",
     "start_time": "2025-02-05T20:20:20.122647Z"
    }
   },
   "cell_type": "code",
   "source": [
    "df[\"digit_to_letter_ratio\"] = df[\"url\"].apply(lambda x: len(re.sub(\"[^0-9]\", \"\", x)) + 1).div((df[\"letter_count\"] + 1), axis=0)\n",
    "df"
   ],
   "id": "72f080aa95ada42",
   "outputs": [
    {
     "data": {
      "text/plain": [
       "                                                      url        type  \\\n",
       "0                                        br-icloud.com.br    phishing   \n",
       "1                     mp3raid.com/music/krizz_kaliko.html      benign   \n",
       "2                         bopsecrets.org/rexroth/cr/1.htm      benign   \n",
       "3       http://www.garage-pirenne.be/index.php?option=...  defacement   \n",
       "4       http://adventure-nicaragua.net/index.php?optio...  defacement   \n",
       "...                                                   ...         ...   \n",
       "651186            xbox360.ign.com/objects/850/850402.html    phishing   \n",
       "651187       games.teamxbox.com/xbox-360/1860/Dead-Space/    phishing   \n",
       "651188         www.gamespot.com/xbox360/action/deadspace/    phishing   \n",
       "651189      en.wikipedia.org/wiki/Dead_Space_(video_game)    phishing   \n",
       "651190          www.angelfire.com/goth/devilmaycrytonite/    phishing   \n",
       "\n",
       "        encrypted  letter_count  count_symbols  count_=  count_\\  count_&  \\\n",
       "0               0            13              3        0        0        0   \n",
       "1               0            29              6        0        0        0   \n",
       "2               0            25              6        0        0        0   \n",
       "3              -1            63             25        4        0        3   \n",
       "4              -1           199             36        3        0        2   \n",
       "...           ...           ...            ...      ...      ...      ...   \n",
       "651186          0            21             18        0        0        0   \n",
       "651187          0            29             15        0        0        0   \n",
       "651188          0            33              9        0        0        0   \n",
       "651189          0            36              9        0        0        0   \n",
       "651190          0            36              5        0        0        0   \n",
       "\n",
       "        count_%  count_$  count_-  count_?  count_/  count_;  contains_ip  \\\n",
       "0             0        0        1        0        0        0        False   \n",
       "1             0        0        0        0        2        0        False   \n",
       "2             0        0        0        0        3        0        False   \n",
       "3             0        0        1        1        3        0        False   \n",
       "4             0        0        1        1        3        0        False   \n",
       "...         ...      ...      ...      ...      ...      ...          ...   \n",
       "651186        0        0        0        0        3        0        False   \n",
       "651187        0        0        2        0        4        0        False   \n",
       "651188        0        0        0        0        4        0        False   \n",
       "651189        0        0        0        0        2        0        False   \n",
       "651190        0        0        0        0        3        0        False   \n",
       "\n",
       "        digit_to_letter_ratio  \n",
       "0                    0.071429  \n",
       "1                    0.066667  \n",
       "2                    0.076923  \n",
       "3                    0.125000  \n",
       "4                    0.115000  \n",
       "...                       ...  \n",
       "651186               0.590909  \n",
       "651187               0.266667  \n",
       "651188               0.117647  \n",
       "651189               0.027027  \n",
       "651190               0.027027  \n",
       "\n",
       "[651191 rows x 16 columns]"
      ],
      "text/html": [
       "<div>\n",
       "<style scoped>\n",
       "    .dataframe tbody tr th:only-of-type {\n",
       "        vertical-align: middle;\n",
       "    }\n",
       "\n",
       "    .dataframe tbody tr th {\n",
       "        vertical-align: top;\n",
       "    }\n",
       "\n",
       "    .dataframe thead th {\n",
       "        text-align: right;\n",
       "    }\n",
       "</style>\n",
       "<table border=\"1\" class=\"dataframe\">\n",
       "  <thead>\n",
       "    <tr style=\"text-align: right;\">\n",
       "      <th></th>\n",
       "      <th>url</th>\n",
       "      <th>type</th>\n",
       "      <th>encrypted</th>\n",
       "      <th>letter_count</th>\n",
       "      <th>count_symbols</th>\n",
       "      <th>count_=</th>\n",
       "      <th>count_\\</th>\n",
       "      <th>count_&amp;</th>\n",
       "      <th>count_%</th>\n",
       "      <th>count_$</th>\n",
       "      <th>count_-</th>\n",
       "      <th>count_?</th>\n",
       "      <th>count_/</th>\n",
       "      <th>count_;</th>\n",
       "      <th>contains_ip</th>\n",
       "      <th>digit_to_letter_ratio</th>\n",
       "    </tr>\n",
       "  </thead>\n",
       "  <tbody>\n",
       "    <tr>\n",
       "      <th>0</th>\n",
       "      <td>br-icloud.com.br</td>\n",
       "      <td>phishing</td>\n",
       "      <td>0</td>\n",
       "      <td>13</td>\n",
       "      <td>3</td>\n",
       "      <td>0</td>\n",
       "      <td>0</td>\n",
       "      <td>0</td>\n",
       "      <td>0</td>\n",
       "      <td>0</td>\n",
       "      <td>1</td>\n",
       "      <td>0</td>\n",
       "      <td>0</td>\n",
       "      <td>0</td>\n",
       "      <td>False</td>\n",
       "      <td>0.071429</td>\n",
       "    </tr>\n",
       "    <tr>\n",
       "      <th>1</th>\n",
       "      <td>mp3raid.com/music/krizz_kaliko.html</td>\n",
       "      <td>benign</td>\n",
       "      <td>0</td>\n",
       "      <td>29</td>\n",
       "      <td>6</td>\n",
       "      <td>0</td>\n",
       "      <td>0</td>\n",
       "      <td>0</td>\n",
       "      <td>0</td>\n",
       "      <td>0</td>\n",
       "      <td>0</td>\n",
       "      <td>0</td>\n",
       "      <td>2</td>\n",
       "      <td>0</td>\n",
       "      <td>False</td>\n",
       "      <td>0.066667</td>\n",
       "    </tr>\n",
       "    <tr>\n",
       "      <th>2</th>\n",
       "      <td>bopsecrets.org/rexroth/cr/1.htm</td>\n",
       "      <td>benign</td>\n",
       "      <td>0</td>\n",
       "      <td>25</td>\n",
       "      <td>6</td>\n",
       "      <td>0</td>\n",
       "      <td>0</td>\n",
       "      <td>0</td>\n",
       "      <td>0</td>\n",
       "      <td>0</td>\n",
       "      <td>0</td>\n",
       "      <td>0</td>\n",
       "      <td>3</td>\n",
       "      <td>0</td>\n",
       "      <td>False</td>\n",
       "      <td>0.076923</td>\n",
       "    </tr>\n",
       "    <tr>\n",
       "      <th>3</th>\n",
       "      <td>http://www.garage-pirenne.be/index.php?option=...</td>\n",
       "      <td>defacement</td>\n",
       "      <td>-1</td>\n",
       "      <td>63</td>\n",
       "      <td>25</td>\n",
       "      <td>4</td>\n",
       "      <td>0</td>\n",
       "      <td>3</td>\n",
       "      <td>0</td>\n",
       "      <td>0</td>\n",
       "      <td>1</td>\n",
       "      <td>1</td>\n",
       "      <td>3</td>\n",
       "      <td>0</td>\n",
       "      <td>False</td>\n",
       "      <td>0.125000</td>\n",
       "    </tr>\n",
       "    <tr>\n",
       "      <th>4</th>\n",
       "      <td>http://adventure-nicaragua.net/index.php?optio...</td>\n",
       "      <td>defacement</td>\n",
       "      <td>-1</td>\n",
       "      <td>199</td>\n",
       "      <td>36</td>\n",
       "      <td>3</td>\n",
       "      <td>0</td>\n",
       "      <td>2</td>\n",
       "      <td>0</td>\n",
       "      <td>0</td>\n",
       "      <td>1</td>\n",
       "      <td>1</td>\n",
       "      <td>3</td>\n",
       "      <td>0</td>\n",
       "      <td>False</td>\n",
       "      <td>0.115000</td>\n",
       "    </tr>\n",
       "    <tr>\n",
       "      <th>...</th>\n",
       "      <td>...</td>\n",
       "      <td>...</td>\n",
       "      <td>...</td>\n",
       "      <td>...</td>\n",
       "      <td>...</td>\n",
       "      <td>...</td>\n",
       "      <td>...</td>\n",
       "      <td>...</td>\n",
       "      <td>...</td>\n",
       "      <td>...</td>\n",
       "      <td>...</td>\n",
       "      <td>...</td>\n",
       "      <td>...</td>\n",
       "      <td>...</td>\n",
       "      <td>...</td>\n",
       "      <td>...</td>\n",
       "    </tr>\n",
       "    <tr>\n",
       "      <th>651186</th>\n",
       "      <td>xbox360.ign.com/objects/850/850402.html</td>\n",
       "      <td>phishing</td>\n",
       "      <td>0</td>\n",
       "      <td>21</td>\n",
       "      <td>18</td>\n",
       "      <td>0</td>\n",
       "      <td>0</td>\n",
       "      <td>0</td>\n",
       "      <td>0</td>\n",
       "      <td>0</td>\n",
       "      <td>0</td>\n",
       "      <td>0</td>\n",
       "      <td>3</td>\n",
       "      <td>0</td>\n",
       "      <td>False</td>\n",
       "      <td>0.590909</td>\n",
       "    </tr>\n",
       "    <tr>\n",
       "      <th>651187</th>\n",
       "      <td>games.teamxbox.com/xbox-360/1860/Dead-Space/</td>\n",
       "      <td>phishing</td>\n",
       "      <td>0</td>\n",
       "      <td>29</td>\n",
       "      <td>15</td>\n",
       "      <td>0</td>\n",
       "      <td>0</td>\n",
       "      <td>0</td>\n",
       "      <td>0</td>\n",
       "      <td>0</td>\n",
       "      <td>2</td>\n",
       "      <td>0</td>\n",
       "      <td>4</td>\n",
       "      <td>0</td>\n",
       "      <td>False</td>\n",
       "      <td>0.266667</td>\n",
       "    </tr>\n",
       "    <tr>\n",
       "      <th>651188</th>\n",
       "      <td>www.gamespot.com/xbox360/action/deadspace/</td>\n",
       "      <td>phishing</td>\n",
       "      <td>0</td>\n",
       "      <td>33</td>\n",
       "      <td>9</td>\n",
       "      <td>0</td>\n",
       "      <td>0</td>\n",
       "      <td>0</td>\n",
       "      <td>0</td>\n",
       "      <td>0</td>\n",
       "      <td>0</td>\n",
       "      <td>0</td>\n",
       "      <td>4</td>\n",
       "      <td>0</td>\n",
       "      <td>False</td>\n",
       "      <td>0.117647</td>\n",
       "    </tr>\n",
       "    <tr>\n",
       "      <th>651189</th>\n",
       "      <td>en.wikipedia.org/wiki/Dead_Space_(video_game)</td>\n",
       "      <td>phishing</td>\n",
       "      <td>0</td>\n",
       "      <td>36</td>\n",
       "      <td>9</td>\n",
       "      <td>0</td>\n",
       "      <td>0</td>\n",
       "      <td>0</td>\n",
       "      <td>0</td>\n",
       "      <td>0</td>\n",
       "      <td>0</td>\n",
       "      <td>0</td>\n",
       "      <td>2</td>\n",
       "      <td>0</td>\n",
       "      <td>False</td>\n",
       "      <td>0.027027</td>\n",
       "    </tr>\n",
       "    <tr>\n",
       "      <th>651190</th>\n",
       "      <td>www.angelfire.com/goth/devilmaycrytonite/</td>\n",
       "      <td>phishing</td>\n",
       "      <td>0</td>\n",
       "      <td>36</td>\n",
       "      <td>5</td>\n",
       "      <td>0</td>\n",
       "      <td>0</td>\n",
       "      <td>0</td>\n",
       "      <td>0</td>\n",
       "      <td>0</td>\n",
       "      <td>0</td>\n",
       "      <td>0</td>\n",
       "      <td>3</td>\n",
       "      <td>0</td>\n",
       "      <td>False</td>\n",
       "      <td>0.027027</td>\n",
       "    </tr>\n",
       "  </tbody>\n",
       "</table>\n",
       "<p>651191 rows × 16 columns</p>\n",
       "</div>"
      ]
     },
     "execution_count": 20,
     "metadata": {},
     "output_type": "execute_result"
    }
   ],
   "execution_count": 20
  },
  {
   "metadata": {
    "ExecuteTime": {
     "end_time": "2025-02-05T20:20:23.775737Z",
     "start_time": "2025-02-05T20:20:23.607400Z"
    }
   },
   "cell_type": "code",
   "source": [
    "df[\"contains_%20\"] = df[\"url\"].apply(lambda x: \"%20\" in x)\n",
    "df"
   ],
   "id": "c53fcf28ad7924ca",
   "outputs": [
    {
     "data": {
      "text/plain": [
       "                                                      url        type  \\\n",
       "0                                        br-icloud.com.br    phishing   \n",
       "1                     mp3raid.com/music/krizz_kaliko.html      benign   \n",
       "2                         bopsecrets.org/rexroth/cr/1.htm      benign   \n",
       "3       http://www.garage-pirenne.be/index.php?option=...  defacement   \n",
       "4       http://adventure-nicaragua.net/index.php?optio...  defacement   \n",
       "...                                                   ...         ...   \n",
       "651186            xbox360.ign.com/objects/850/850402.html    phishing   \n",
       "651187       games.teamxbox.com/xbox-360/1860/Dead-Space/    phishing   \n",
       "651188         www.gamespot.com/xbox360/action/deadspace/    phishing   \n",
       "651189      en.wikipedia.org/wiki/Dead_Space_(video_game)    phishing   \n",
       "651190          www.angelfire.com/goth/devilmaycrytonite/    phishing   \n",
       "\n",
       "        encrypted  letter_count  count_symbols  count_=  count_\\  count_&  \\\n",
       "0               0            13              3        0        0        0   \n",
       "1               0            29              6        0        0        0   \n",
       "2               0            25              6        0        0        0   \n",
       "3              -1            63             25        4        0        3   \n",
       "4              -1           199             36        3        0        2   \n",
       "...           ...           ...            ...      ...      ...      ...   \n",
       "651186          0            21             18        0        0        0   \n",
       "651187          0            29             15        0        0        0   \n",
       "651188          0            33              9        0        0        0   \n",
       "651189          0            36              9        0        0        0   \n",
       "651190          0            36              5        0        0        0   \n",
       "\n",
       "        count_%  count_$  count_-  count_?  count_/  count_;  contains_ip  \\\n",
       "0             0        0        1        0        0        0        False   \n",
       "1             0        0        0        0        2        0        False   \n",
       "2             0        0        0        0        3        0        False   \n",
       "3             0        0        1        1        3        0        False   \n",
       "4             0        0        1        1        3        0        False   \n",
       "...         ...      ...      ...      ...      ...      ...          ...   \n",
       "651186        0        0        0        0        3        0        False   \n",
       "651187        0        0        2        0        4        0        False   \n",
       "651188        0        0        0        0        4        0        False   \n",
       "651189        0        0        0        0        2        0        False   \n",
       "651190        0        0        0        0        3        0        False   \n",
       "\n",
       "        digit_to_letter_ratio  contains_%20  \n",
       "0                    0.071429         False  \n",
       "1                    0.066667         False  \n",
       "2                    0.076923         False  \n",
       "3                    0.125000         False  \n",
       "4                    0.115000         False  \n",
       "...                       ...           ...  \n",
       "651186               0.590909         False  \n",
       "651187               0.266667         False  \n",
       "651188               0.117647         False  \n",
       "651189               0.027027         False  \n",
       "651190               0.027027         False  \n",
       "\n",
       "[651191 rows x 17 columns]"
      ],
      "text/html": [
       "<div>\n",
       "<style scoped>\n",
       "    .dataframe tbody tr th:only-of-type {\n",
       "        vertical-align: middle;\n",
       "    }\n",
       "\n",
       "    .dataframe tbody tr th {\n",
       "        vertical-align: top;\n",
       "    }\n",
       "\n",
       "    .dataframe thead th {\n",
       "        text-align: right;\n",
       "    }\n",
       "</style>\n",
       "<table border=\"1\" class=\"dataframe\">\n",
       "  <thead>\n",
       "    <tr style=\"text-align: right;\">\n",
       "      <th></th>\n",
       "      <th>url</th>\n",
       "      <th>type</th>\n",
       "      <th>encrypted</th>\n",
       "      <th>letter_count</th>\n",
       "      <th>count_symbols</th>\n",
       "      <th>count_=</th>\n",
       "      <th>count_\\</th>\n",
       "      <th>count_&amp;</th>\n",
       "      <th>count_%</th>\n",
       "      <th>count_$</th>\n",
       "      <th>count_-</th>\n",
       "      <th>count_?</th>\n",
       "      <th>count_/</th>\n",
       "      <th>count_;</th>\n",
       "      <th>contains_ip</th>\n",
       "      <th>digit_to_letter_ratio</th>\n",
       "      <th>contains_%20</th>\n",
       "    </tr>\n",
       "  </thead>\n",
       "  <tbody>\n",
       "    <tr>\n",
       "      <th>0</th>\n",
       "      <td>br-icloud.com.br</td>\n",
       "      <td>phishing</td>\n",
       "      <td>0</td>\n",
       "      <td>13</td>\n",
       "      <td>3</td>\n",
       "      <td>0</td>\n",
       "      <td>0</td>\n",
       "      <td>0</td>\n",
       "      <td>0</td>\n",
       "      <td>0</td>\n",
       "      <td>1</td>\n",
       "      <td>0</td>\n",
       "      <td>0</td>\n",
       "      <td>0</td>\n",
       "      <td>False</td>\n",
       "      <td>0.071429</td>\n",
       "      <td>False</td>\n",
       "    </tr>\n",
       "    <tr>\n",
       "      <th>1</th>\n",
       "      <td>mp3raid.com/music/krizz_kaliko.html</td>\n",
       "      <td>benign</td>\n",
       "      <td>0</td>\n",
       "      <td>29</td>\n",
       "      <td>6</td>\n",
       "      <td>0</td>\n",
       "      <td>0</td>\n",
       "      <td>0</td>\n",
       "      <td>0</td>\n",
       "      <td>0</td>\n",
       "      <td>0</td>\n",
       "      <td>0</td>\n",
       "      <td>2</td>\n",
       "      <td>0</td>\n",
       "      <td>False</td>\n",
       "      <td>0.066667</td>\n",
       "      <td>False</td>\n",
       "    </tr>\n",
       "    <tr>\n",
       "      <th>2</th>\n",
       "      <td>bopsecrets.org/rexroth/cr/1.htm</td>\n",
       "      <td>benign</td>\n",
       "      <td>0</td>\n",
       "      <td>25</td>\n",
       "      <td>6</td>\n",
       "      <td>0</td>\n",
       "      <td>0</td>\n",
       "      <td>0</td>\n",
       "      <td>0</td>\n",
       "      <td>0</td>\n",
       "      <td>0</td>\n",
       "      <td>0</td>\n",
       "      <td>3</td>\n",
       "      <td>0</td>\n",
       "      <td>False</td>\n",
       "      <td>0.076923</td>\n",
       "      <td>False</td>\n",
       "    </tr>\n",
       "    <tr>\n",
       "      <th>3</th>\n",
       "      <td>http://www.garage-pirenne.be/index.php?option=...</td>\n",
       "      <td>defacement</td>\n",
       "      <td>-1</td>\n",
       "      <td>63</td>\n",
       "      <td>25</td>\n",
       "      <td>4</td>\n",
       "      <td>0</td>\n",
       "      <td>3</td>\n",
       "      <td>0</td>\n",
       "      <td>0</td>\n",
       "      <td>1</td>\n",
       "      <td>1</td>\n",
       "      <td>3</td>\n",
       "      <td>0</td>\n",
       "      <td>False</td>\n",
       "      <td>0.125000</td>\n",
       "      <td>False</td>\n",
       "    </tr>\n",
       "    <tr>\n",
       "      <th>4</th>\n",
       "      <td>http://adventure-nicaragua.net/index.php?optio...</td>\n",
       "      <td>defacement</td>\n",
       "      <td>-1</td>\n",
       "      <td>199</td>\n",
       "      <td>36</td>\n",
       "      <td>3</td>\n",
       "      <td>0</td>\n",
       "      <td>2</td>\n",
       "      <td>0</td>\n",
       "      <td>0</td>\n",
       "      <td>1</td>\n",
       "      <td>1</td>\n",
       "      <td>3</td>\n",
       "      <td>0</td>\n",
       "      <td>False</td>\n",
       "      <td>0.115000</td>\n",
       "      <td>False</td>\n",
       "    </tr>\n",
       "    <tr>\n",
       "      <th>...</th>\n",
       "      <td>...</td>\n",
       "      <td>...</td>\n",
       "      <td>...</td>\n",
       "      <td>...</td>\n",
       "      <td>...</td>\n",
       "      <td>...</td>\n",
       "      <td>...</td>\n",
       "      <td>...</td>\n",
       "      <td>...</td>\n",
       "      <td>...</td>\n",
       "      <td>...</td>\n",
       "      <td>...</td>\n",
       "      <td>...</td>\n",
       "      <td>...</td>\n",
       "      <td>...</td>\n",
       "      <td>...</td>\n",
       "      <td>...</td>\n",
       "    </tr>\n",
       "    <tr>\n",
       "      <th>651186</th>\n",
       "      <td>xbox360.ign.com/objects/850/850402.html</td>\n",
       "      <td>phishing</td>\n",
       "      <td>0</td>\n",
       "      <td>21</td>\n",
       "      <td>18</td>\n",
       "      <td>0</td>\n",
       "      <td>0</td>\n",
       "      <td>0</td>\n",
       "      <td>0</td>\n",
       "      <td>0</td>\n",
       "      <td>0</td>\n",
       "      <td>0</td>\n",
       "      <td>3</td>\n",
       "      <td>0</td>\n",
       "      <td>False</td>\n",
       "      <td>0.590909</td>\n",
       "      <td>False</td>\n",
       "    </tr>\n",
       "    <tr>\n",
       "      <th>651187</th>\n",
       "      <td>games.teamxbox.com/xbox-360/1860/Dead-Space/</td>\n",
       "      <td>phishing</td>\n",
       "      <td>0</td>\n",
       "      <td>29</td>\n",
       "      <td>15</td>\n",
       "      <td>0</td>\n",
       "      <td>0</td>\n",
       "      <td>0</td>\n",
       "      <td>0</td>\n",
       "      <td>0</td>\n",
       "      <td>2</td>\n",
       "      <td>0</td>\n",
       "      <td>4</td>\n",
       "      <td>0</td>\n",
       "      <td>False</td>\n",
       "      <td>0.266667</td>\n",
       "      <td>False</td>\n",
       "    </tr>\n",
       "    <tr>\n",
       "      <th>651188</th>\n",
       "      <td>www.gamespot.com/xbox360/action/deadspace/</td>\n",
       "      <td>phishing</td>\n",
       "      <td>0</td>\n",
       "      <td>33</td>\n",
       "      <td>9</td>\n",
       "      <td>0</td>\n",
       "      <td>0</td>\n",
       "      <td>0</td>\n",
       "      <td>0</td>\n",
       "      <td>0</td>\n",
       "      <td>0</td>\n",
       "      <td>0</td>\n",
       "      <td>4</td>\n",
       "      <td>0</td>\n",
       "      <td>False</td>\n",
       "      <td>0.117647</td>\n",
       "      <td>False</td>\n",
       "    </tr>\n",
       "    <tr>\n",
       "      <th>651189</th>\n",
       "      <td>en.wikipedia.org/wiki/Dead_Space_(video_game)</td>\n",
       "      <td>phishing</td>\n",
       "      <td>0</td>\n",
       "      <td>36</td>\n",
       "      <td>9</td>\n",
       "      <td>0</td>\n",
       "      <td>0</td>\n",
       "      <td>0</td>\n",
       "      <td>0</td>\n",
       "      <td>0</td>\n",
       "      <td>0</td>\n",
       "      <td>0</td>\n",
       "      <td>2</td>\n",
       "      <td>0</td>\n",
       "      <td>False</td>\n",
       "      <td>0.027027</td>\n",
       "      <td>False</td>\n",
       "    </tr>\n",
       "    <tr>\n",
       "      <th>651190</th>\n",
       "      <td>www.angelfire.com/goth/devilmaycrytonite/</td>\n",
       "      <td>phishing</td>\n",
       "      <td>0</td>\n",
       "      <td>36</td>\n",
       "      <td>5</td>\n",
       "      <td>0</td>\n",
       "      <td>0</td>\n",
       "      <td>0</td>\n",
       "      <td>0</td>\n",
       "      <td>0</td>\n",
       "      <td>0</td>\n",
       "      <td>0</td>\n",
       "      <td>3</td>\n",
       "      <td>0</td>\n",
       "      <td>False</td>\n",
       "      <td>0.027027</td>\n",
       "      <td>False</td>\n",
       "    </tr>\n",
       "  </tbody>\n",
       "</table>\n",
       "<p>651191 rows × 17 columns</p>\n",
       "</div>"
      ]
     },
     "execution_count": 21,
     "metadata": {},
     "output_type": "execute_result"
    }
   ],
   "execution_count": 21
  },
  {
   "metadata": {
    "ExecuteTime": {
     "end_time": "2025-02-05T20:20:24.019241Z",
     "start_time": "2025-02-05T20:20:23.935582Z"
    }
   },
   "cell_type": "code",
   "source": "df.groupby(\"type\")[\"contains_%20\"].value_counts().unstack(fill_value=0)",
   "id": "aaefe670114a82b9",
   "outputs": [
    {
     "data": {
      "text/plain": [
       "contains_%20   False  True \n",
       "type                       \n",
       "benign        422879   5224\n",
       "defacement     96457      0\n",
       "malware        32148    372\n",
       "phishing       93522    589"
      ],
      "text/html": [
       "<div>\n",
       "<style scoped>\n",
       "    .dataframe tbody tr th:only-of-type {\n",
       "        vertical-align: middle;\n",
       "    }\n",
       "\n",
       "    .dataframe tbody tr th {\n",
       "        vertical-align: top;\n",
       "    }\n",
       "\n",
       "    .dataframe thead th {\n",
       "        text-align: right;\n",
       "    }\n",
       "</style>\n",
       "<table border=\"1\" class=\"dataframe\">\n",
       "  <thead>\n",
       "    <tr style=\"text-align: right;\">\n",
       "      <th>contains_%20</th>\n",
       "      <th>False</th>\n",
       "      <th>True</th>\n",
       "    </tr>\n",
       "    <tr>\n",
       "      <th>type</th>\n",
       "      <th></th>\n",
       "      <th></th>\n",
       "    </tr>\n",
       "  </thead>\n",
       "  <tbody>\n",
       "    <tr>\n",
       "      <th>benign</th>\n",
       "      <td>422879</td>\n",
       "      <td>5224</td>\n",
       "    </tr>\n",
       "    <tr>\n",
       "      <th>defacement</th>\n",
       "      <td>96457</td>\n",
       "      <td>0</td>\n",
       "    </tr>\n",
       "    <tr>\n",
       "      <th>malware</th>\n",
       "      <td>32148</td>\n",
       "      <td>372</td>\n",
       "    </tr>\n",
       "    <tr>\n",
       "      <th>phishing</th>\n",
       "      <td>93522</td>\n",
       "      <td>589</td>\n",
       "    </tr>\n",
       "  </tbody>\n",
       "</table>\n",
       "</div>"
      ]
     },
     "execution_count": 22,
     "metadata": {},
     "output_type": "execute_result"
    }
   ],
   "execution_count": 22
  },
  {
   "metadata": {
    "ExecuteTime": {
     "end_time": "2025-02-05T20:20:31.187329Z",
     "start_time": "2025-02-05T20:20:24.351304Z"
    }
   },
   "cell_type": "code",
   "source": [
    "word_set = set(words.words())\n",
    "\n",
    "df[\"count_english_words\"] = df[\"url\"].apply(\n",
    "    lambda x: [word for word in re.split(\"[^a-zA-Z]\", x) if word != \"\"]\n",
    ").apply(\n",
    "    lambda x: sum(word in word_set for word in x)\n",
    ")"
   ],
   "id": "89f2d669cfd6cbc2",
   "outputs": [],
   "execution_count": 23
  },
  {
   "metadata": {
    "ExecuteTime": {
     "end_time": "2025-02-05T20:20:31.516608Z",
     "start_time": "2025-02-05T20:20:31.294409Z"
    }
   },
   "cell_type": "code",
   "source": [
    "cdf_data = df.groupby(\"type\")[\"count_english_words\"].value_counts(normalize=True).unstack(fill_value=0).cumsum(axis=1)\n",
    "x_range = np.arange(0, 25)\n",
    "\n",
    "plt.figure(figsize=(8, 5))\n",
    "for type_, counts in cdf_data.iterrows():\n",
    "    y_values = counts.reindex(x_range, fill_value=0).values.tolist()\n",
    "    plt.step(x_range, y_values, where=\"post\", label=f\"Type {type_}\")\n",
    "\n",
    "plt.xlabel(\"Count of English words\")\n",
    "plt.ylabel(\"%\")\n",
    "plt.legend()\n",
    "plt.grid()\n",
    "plt.show()"
   ],
   "id": "45a85aa4ed041d5b",
   "outputs": [
    {
     "data": {
      "text/plain": [
       "<Figure size 800x500 with 1 Axes>"
      ],
      "image/png": "[encoded data removed]"
     },
     "metadata": {},
     "output_type": "display_data"
    }
   ],
   "execution_count": 24
  },
  {
   "metadata": {
    "ExecuteTime": {
     "end_time": "2025-02-05T20:20:31.930461Z",
     "start_time": "2025-02-05T20:20:31.540670Z"
    }
   },
   "cell_type": "code",
   "source": [
    "for column in df:\n",
    "    unique_values = df[column].unique()\n",
    "    count_unique_values = len(unique_values)\n",
    "    if count_unique_values < 15:\n",
    "        print(f\"{column:15}  {count_unique_values:5} | {unique_values}\")"
   ],
   "id": "54b2a4b4a5db533b",
   "outputs": [
    {
     "name": "stdout",
     "output_type": "stream",
     "text": [
      "type                 4 | ['phishing' 'benign' 'defacement' 'malware']\n",
      "encrypted            3 | [ 0 -1  1]\n",
      "count_$              7 | [0 1 2 5 4 6 3]\n",
      "contains_ip          2 | [False  True]\n",
      "contains_%20         2 | [False  True]\n"
     ]
    }
   ],
   "execution_count": 25
  },
  {
   "metadata": {
    "ExecuteTime": {
     "end_time": "2025-02-05T20:20:32.394989Z",
     "start_time": "2025-02-05T20:20:32.285715Z"
    }
   },
   "cell_type": "code",
   "source": "df.isnull().sum()",
   "id": "7e35b39601597744",
   "outputs": [
    {
     "data": {
      "text/plain": [
       "url                      0\n",
       "type                     0\n",
       "encrypted                0\n",
       "letter_count             0\n",
       "count_symbols            0\n",
       "count_=                  0\n",
       "count_\\                  0\n",
       "count_&                  0\n",
       "count_%                  0\n",
       "count_$                  0\n",
       "count_-                  0\n",
       "count_?                  0\n",
       "count_/                  0\n",
       "count_;                  0\n",
       "contains_ip              0\n",
       "digit_to_letter_ratio    0\n",
       "contains_%20             0\n",
       "count_english_words      0\n",
       "dtype: int64"
      ]
     },
     "execution_count": 26,
     "metadata": {},
     "output_type": "execute_result"
    }
   ],
   "execution_count": 26
  },
  {
   "metadata": {
    "ExecuteTime": {
     "end_time": "2025-02-05T20:20:32.647846Z",
     "start_time": "2025-02-05T20:20:32.637012Z"
    }
   },
   "cell_type": "code",
   "source": [
    "for col in df.select_dtypes(include=[\"bool\"]):\n",
    "    df[col] = df[col].astype(np.int64)"
   ],
   "id": "88b0e522f120ffef",
   "outputs": [],
   "execution_count": 28
  },
  {
   "metadata": {
    "ExecuteTime": {
     "end_time": "2025-02-05T20:20:33.768967Z",
     "start_time": "2025-02-05T20:20:32.667917Z"
    }
   },
   "cell_type": "code",
   "source": [
    "def get_num_outliers(col):\n",
    "    q1 = np.percentile(col, 25)\n",
    "    q3 = np.percentile(col, 75)\n",
    "    return sum((col < q1) | (col > q3))\n",
    "\n",
    "for col in df.select_dtypes(include=[\"int64\"]):\n",
    "    print(f\"{col}: {get_num_outliers(df[col])}\")"
   ],
   "id": "d092bdebe1e14a6e",
   "outputs": [
    {
     "name": "stdout",
     "output_type": "stream",
     "text": [
      "encrypted: 15614\n",
      "letter_count: 306989\n",
      "count_symbols: 275246\n",
      "count_=: 140293\n",
      "count_\\: 3879\n",
      "count_&: 85513\n",
      "count_%: 27200\n",
      "count_$: 96\n",
      "count_-: 125733\n",
      "count_?: 140178\n",
      "count_/: 264939\n",
      "count_;: 11045\n",
      "contains_ip: 12368\n",
      "contains_%20: 6185\n",
      "count_english_words: 286270\n"
     ]
    }
   ],
   "execution_count": 29
  },
  {
   "metadata": {
    "ExecuteTime": {
     "end_time": "2025-02-05T20:20:34.168069Z",
     "start_time": "2025-02-05T20:20:33.967686Z"
    }
   },
   "cell_type": "code",
   "source": [
    "scaler = StandardScaler()\n",
    "columns_to_scale = [col for col in df.columns if \"count\" in col]\n",
    "\n",
    "for col in columns_to_scale:\n",
    "    # df[col] = df[col]  / df[col].abs().max()\n",
    "    df[col] = stats.zscore(df[col])"
   ],
   "id": "74a1f61ed82bc497",
   "outputs": [],
   "execution_count": 30
  },
  {
   "metadata": {
    "ExecuteTime": {
     "end_time": "2025-02-05T20:20:34.553265Z",
     "start_time": "2025-02-05T20:20:34.365708Z"
    }
   },
   "cell_type": "code",
   "source": [
    "for col in df.select_dtypes(include=[\"int64\"]):\n",
    "    print(f\"{col}: {get_num_outliers(df[col])}\")"
   ],
   "id": "2ac5d201291e8791",
   "outputs": [
    {
     "name": "stdout",
     "output_type": "stream",
     "text": [
      "encrypted: 15614\n",
      "contains_ip: 12368\n",
      "contains_%20: 6185\n"
     ]
    }
   ],
   "execution_count": 31
  },
  {
   "metadata": {
    "ExecuteTime": {
     "end_time": "2025-02-05T20:20:34.777Z",
     "start_time": "2025-02-05T20:20:34.755612Z"
    }
   },
   "cell_type": "code",
   "source": "df",
   "id": "62da8d789c753f34",
   "outputs": [
    {
     "data": {
      "text/plain": [
       "                                                      url        type  \\\n",
       "0                                        br-icloud.com.br    phishing   \n",
       "1                     mp3raid.com/music/krizz_kaliko.html      benign   \n",
       "2                         bopsecrets.org/rexroth/cr/1.htm      benign   \n",
       "3       http://www.garage-pirenne.be/index.php?option=...  defacement   \n",
       "4       http://adventure-nicaragua.net/index.php?optio...  defacement   \n",
       "...                                                   ...         ...   \n",
       "651186            xbox360.ign.com/objects/850/850402.html    phishing   \n",
       "651187       games.teamxbox.com/xbox-360/1860/Dead-Space/    phishing   \n",
       "651188         www.gamespot.com/xbox360/action/deadspace/    phishing   \n",
       "651189      en.wikipedia.org/wiki/Dead_Space_(video_game)    phishing   \n",
       "651190          www.angelfire.com/goth/devilmaycrytonite/    phishing   \n",
       "\n",
       "        encrypted  letter_count  count_symbols   count_=   count_\\   count_&  \\\n",
       "0               0     -1.019490      -0.682877 -0.398075 -0.054681 -0.310821   \n",
       "1               0     -0.513389      -0.511105 -0.398075 -0.054681 -0.310821   \n",
       "2               0     -0.639914      -0.511105 -0.398075 -0.054681 -0.310821   \n",
       "3              -1      0.562076       0.576785  2.238780 -0.054681  2.139824   \n",
       "4              -1      4.863936       1.206616  1.579567 -0.054681  1.322942   \n",
       "...           ...           ...            ...       ...       ...       ...   \n",
       "651186          0     -0.766439       0.175983 -0.398075 -0.054681 -0.310821   \n",
       "651187          0     -0.513389       0.004211 -0.398075 -0.054681 -0.310821   \n",
       "651188          0     -0.386863      -0.339333 -0.398075 -0.054681 -0.310821   \n",
       "651189          0     -0.291969      -0.339333 -0.398075 -0.054681 -0.310821   \n",
       "651190          0     -0.291969      -0.568362 -0.398075 -0.054681 -0.310821   \n",
       "\n",
       "         count_%  count_$   count_-   count_?   count_/   count_;  \\\n",
       "0      -0.116422 -0.01011 -0.185091 -0.507190 -1.549358 -0.069621   \n",
       "1      -0.116422 -0.01011 -0.521362 -0.507190 -0.499040 -0.069621   \n",
       "2      -0.116422 -0.01011 -0.521362 -0.507190  0.026119 -0.069621   \n",
       "3      -0.116422 -0.01011 -0.185091  1.759256  0.026119 -0.069621   \n",
       "4      -0.116422 -0.01011 -0.185091  1.759256  0.026119 -0.069621   \n",
       "...          ...      ...       ...       ...       ...       ...   \n",
       "651186 -0.116422 -0.01011 -0.521362 -0.507190  0.026119 -0.069621   \n",
       "651187 -0.116422 -0.01011  0.151181 -0.507190  0.551278 -0.069621   \n",
       "651188 -0.116422 -0.01011 -0.521362 -0.507190  0.551278 -0.069621   \n",
       "651189 -0.116422 -0.01011 -0.521362 -0.507190 -0.499040 -0.069621   \n",
       "651190 -0.116422 -0.01011 -0.521362 -0.507190  0.026119 -0.069621   \n",
       "\n",
       "        contains_ip  digit_to_letter_ratio  contains_%20  count_english_words  \n",
       "0                 0               0.071429             0            -0.717380  \n",
       "1                 0               0.066667             0            -0.305466  \n",
       "2                 0               0.076923             0            -0.717380  \n",
       "3                 0               0.125000             0             0.930276  \n",
       "4                 0               0.115000             0             1.136233  \n",
       "...             ...                    ...           ...                  ...  \n",
       "651186            0               0.590909             0            -0.717380  \n",
       "651187            0               0.266667             0            -0.511423  \n",
       "651188            0               0.117647             0            -0.511423  \n",
       "651189            0               0.027027             0             0.106448  \n",
       "651190            0               0.027027             0            -0.717380  \n",
       "\n",
       "[651191 rows x 18 columns]"
      ],
      "text/html": [
       "<div>\n",
       "<style scoped>\n",
       "    .dataframe tbody tr th:only-of-type {\n",
       "        vertical-align: middle;\n",
       "    }\n",
       "\n",
       "    .dataframe tbody tr th {\n",
       "        vertical-align: top;\n",
       "    }\n",
       "\n",
       "    .dataframe thead th {\n",
       "        text-align: right;\n",
       "    }\n",
       "</style>\n",
       "<table border=\"1\" class=\"dataframe\">\n",
       "  <thead>\n",
       "    <tr style=\"text-align: right;\">\n",
       "      <th></th>\n",
       "      <th>url</th>\n",
       "      <th>type</th>\n",
       "      <th>encrypted</th>\n",
       "      <th>letter_count</th>\n",
       "      <th>count_symbols</th>\n",
       "      <th>count_=</th>\n",
       "      <th>count_\\</th>\n",
       "      <th>count_&amp;</th>\n",
       "      <th>count_%</th>\n",
       "      <th>count_$</th>\n",
       "      <th>count_-</th>\n",
       "      <th>count_?</th>\n",
       "      <th>count_/</th>\n",
       "      <th>count_;</th>\n",
       "      <th>contains_ip</th>\n",
       "      <th>digit_to_letter_ratio</th>\n",
       "      <th>contains_%20</th>\n",
       "      <th>count_english_words</th>\n",
       "    </tr>\n",
       "  </thead>\n",
       "  <tbody>\n",
       "    <tr>\n",
       "      <th>0</th>\n",
       "      <td>br-icloud.com.br</td>\n",
       "      <td>phishing</td>\n",
       "      <td>0</td>\n",
       "      <td>-1.019490</td>\n",
       "      <td>-0.682877</td>\n",
       "      <td>-0.398075</td>\n",
       "      <td>-0.054681</td>\n",
       "      <td>-0.310821</td>\n",
       "      <td>-0.116422</td>\n",
       "      <td>-0.01011</td>\n",
       "      <td>-0.185091</td>\n",
       "      <td>-0.507190</td>\n",
       "      <td>-1.549358</td>\n",
       "      <td>-0.069621</td>\n",
       "      <td>0</td>\n",
       "      <td>0.071429</td>\n",
       "      <td>0</td>\n",
       "      <td>-0.717380</td>\n",
       "    </tr>\n",
       "    <tr>\n",
       "      <th>1</th>\n",
       "      <td>mp3raid.com/music/krizz_kaliko.html</td>\n",
       "      <td>benign</td>\n",
       "      <td>0</td>\n",
       "      <td>-0.513389</td>\n",
       "      <td>-0.511105</td>\n",
       "      <td>-0.398075</td>\n",
       "      <td>-0.054681</td>\n",
       "      <td>-0.310821</td>\n",
       "      <td>-0.116422</td>\n",
       "      <td>-0.01011</td>\n",
       "      <td>-0.521362</td>\n",
       "      <td>-0.507190</td>\n",
       "      <td>-0.499040</td>\n",
       "      <td>-0.069621</td>\n",
       "      <td>0</td>\n",
       "      <td>0.066667</td>\n",
       "      <td>0</td>\n",
       "      <td>-0.305466</td>\n",
       "    </tr>\n",
       "    <tr>\n",
       "      <th>2</th>\n",
       "      <td>bopsecrets.org/rexroth/cr/1.htm</td>\n",
       "      <td>benign</td>\n",
       "      <td>0</td>\n",
       "      <td>-0.639914</td>\n",
       "      <td>-0.511105</td>\n",
       "      <td>-0.398075</td>\n",
       "      <td>-0.054681</td>\n",
       "      <td>-0.310821</td>\n",
       "      <td>-0.116422</td>\n",
       "      <td>-0.01011</td>\n",
       "      <td>-0.521362</td>\n",
       "      <td>-0.507190</td>\n",
       "      <td>0.026119</td>\n",
       "      <td>-0.069621</td>\n",
       "      <td>0</td>\n",
       "      <td>0.076923</td>\n",
       "      <td>0</td>\n",
       "      <td>-0.717380</td>\n",
       "    </tr>\n",
       "    <tr>\n",
       "      <th>3</th>\n",
       "      <td>http://www.garage-pirenne.be/index.php?option=...</td>\n",
       "      <td>defacement</td>\n",
       "      <td>-1</td>\n",
       "      <td>0.562076</td>\n",
       "      <td>0.576785</td>\n",
       "      <td>2.238780</td>\n",
       "      <td>-0.054681</td>\n",
       "      <td>2.139824</td>\n",
       "      <td>-0.116422</td>\n",
       "      <td>-0.01011</td>\n",
       "      <td>-0.185091</td>\n",
       "      <td>1.759256</td>\n",
       "      <td>0.026119</td>\n",
       "      <td>-0.069621</td>\n",
       "      <td>0</td>\n",
       "      <td>0.125000</td>\n",
       "      <td>0</td>\n",
       "      <td>0.930276</td>\n",
       "    </tr>\n",
       "    <tr>\n",
       "      <th>4</th>\n",
       "      <td>http://adventure-nicaragua.net/index.php?optio...</td>\n",
       "      <td>defacement</td>\n",
       "      <td>-1</td>\n",
       "      <td>4.863936</td>\n",
       "      <td>1.206616</td>\n",
       "      <td>1.579567</td>\n",
       "      <td>-0.054681</td>\n",
       "      <td>1.322942</td>\n",
       "      <td>-0.116422</td>\n",
       "      <td>-0.01011</td>\n",
       "      <td>-0.185091</td>\n",
       "      <td>1.759256</td>\n",
       "      <td>0.026119</td>\n",
       "      <td>-0.069621</td>\n",
       "      <td>0</td>\n",
       "      <td>0.115000</td>\n",
       "      <td>0</td>\n",
       "      <td>1.136233</td>\n",
       "    </tr>\n",
       "    <tr>\n",
       "      <th>...</th>\n",
       "      <td>...</td>\n",
       "      <td>...</td>\n",
       "      <td>...</td>\n",
       "      <td>...</td>\n",
       "      <td>...</td>\n",
       "      <td>...</td>\n",
       "      <td>...</td>\n",
       "      <td>...</td>\n",
       "      <td>...</td>\n",
       "      <td>...</td>\n",
       "      <td>...</td>\n",
       "      <td>...</td>\n",
       "      <td>...</td>\n",
       "      <td>...</td>\n",
       "      <td>...</td>\n",
       "      <td>...</td>\n",
       "      <td>...</td>\n",
       "      <td>...</td>\n",
       "    </tr>\n",
       "    <tr>\n",
       "      <th>651186</th>\n",
       "      <td>xbox360.ign.com/objects/850/850402.html</td>\n",
       "      <td>phishing</td>\n",
       "      <td>0</td>\n",
       "      <td>-0.766439</td>\n",
       "      <td>0.175983</td>\n",
       "      <td>-0.398075</td>\n",
       "      <td>-0.054681</td>\n",
       "      <td>-0.310821</td>\n",
       "      <td>-0.116422</td>\n",
       "      <td>-0.01011</td>\n",
       "      <td>-0.521362</td>\n",
       "      <td>-0.507190</td>\n",
       "      <td>0.026119</td>\n",
       "      <td>-0.069621</td>\n",
       "      <td>0</td>\n",
       "      <td>0.590909</td>\n",
       "      <td>0</td>\n",
       "      <td>-0.717380</td>\n",
       "    </tr>\n",
       "    <tr>\n",
       "      <th>651187</th>\n",
       "      <td>games.teamxbox.com/xbox-360/1860/Dead-Space/</td>\n",
       "      <td>phishing</td>\n",
       "      <td>0</td>\n",
       "      <td>-0.513389</td>\n",
       "      <td>0.004211</td>\n",
       "      <td>-0.398075</td>\n",
       "      <td>-0.054681</td>\n",
       "      <td>-0.310821</td>\n",
       "      <td>-0.116422</td>\n",
       "      <td>-0.01011</td>\n",
       "      <td>0.151181</td>\n",
       "      <td>-0.507190</td>\n",
       "      <td>0.551278</td>\n",
       "      <td>-0.069621</td>\n",
       "      <td>0</td>\n",
       "      <td>0.266667</td>\n",
       "      <td>0</td>\n",
       "      <td>-0.511423</td>\n",
       "    </tr>\n",
       "    <tr>\n",
       "      <th>651188</th>\n",
       "      <td>www.gamespot.com/xbox360/action/deadspace/</td>\n",
       "      <td>phishing</td>\n",
       "      <td>0</td>\n",
       "      <td>-0.386863</td>\n",
       "      <td>-0.339333</td>\n",
       "      <td>-0.398075</td>\n",
       "      <td>-0.054681</td>\n",
       "      <td>-0.310821</td>\n",
       "      <td>-0.116422</td>\n",
       "      <td>-0.01011</td>\n",
       "      <td>-0.521362</td>\n",
       "      <td>-0.507190</td>\n",
       "      <td>0.551278</td>\n",
       "      <td>-0.069621</td>\n",
       "      <td>0</td>\n",
       "      <td>0.117647</td>\n",
       "      <td>0</td>\n",
       "      <td>-0.511423</td>\n",
       "    </tr>\n",
       "    <tr>\n",
       "      <th>651189</th>\n",
       "      <td>en.wikipedia.org/wiki/Dead_Space_(video_game)</td>\n",
       "      <td>phishing</td>\n",
       "      <td>0</td>\n",
       "      <td>-0.291969</td>\n",
       "      <td>-0.339333</td>\n",
       "      <td>-0.398075</td>\n",
       "      <td>-0.054681</td>\n",
       "      <td>-0.310821</td>\n",
       "      <td>-0.116422</td>\n",
       "      <td>-0.01011</td>\n",
       "      <td>-0.521362</td>\n",
       "      <td>-0.507190</td>\n",
       "      <td>-0.499040</td>\n",
       "      <td>-0.069621</td>\n",
       "      <td>0</td>\n",
       "      <td>0.027027</td>\n",
       "      <td>0</td>\n",
       "      <td>0.106448</td>\n",
       "    </tr>\n",
       "    <tr>\n",
       "      <th>651190</th>\n",
       "      <td>www.angelfire.com/goth/devilmaycrytonite/</td>\n",
       "      <td>phishing</td>\n",
       "      <td>0</td>\n",
       "      <td>-0.291969</td>\n",
       "      <td>-0.568362</td>\n",
       "      <td>-0.398075</td>\n",
       "      <td>-0.054681</td>\n",
       "      <td>-0.310821</td>\n",
       "      <td>-0.116422</td>\n",
       "      <td>-0.01011</td>\n",
       "      <td>-0.521362</td>\n",
       "      <td>-0.507190</td>\n",
       "      <td>0.026119</td>\n",
       "      <td>-0.069621</td>\n",
       "      <td>0</td>\n",
       "      <td>0.027027</td>\n",
       "      <td>0</td>\n",
       "      <td>-0.717380</td>\n",
       "    </tr>\n",
       "  </tbody>\n",
       "</table>\n",
       "<p>651191 rows × 18 columns</p>\n",
       "</div>"
      ]
     },
     "execution_count": 32,
     "metadata": {},
     "output_type": "execute_result"
    }
   ],
   "execution_count": 32
  },
  {
   "metadata": {
    "ExecuteTime": {
     "end_time": "2025-02-05T21:35:15.654302Z",
     "start_time": "2025-02-05T21:35:15.222249Z"
    }
   },
   "cell_type": "code",
   "source": [
    "sns.heatmap(\n",
    "    df.select_dtypes(include=[\"float64\"]).corr(),\n",
    "    vmin=-1,\n",
    "    vmax=1,\n",
    "    square=True,\n",
    "    cmap=sns.color_palette(\"RdBu_r\", 100),\n",
    "    linewidths=.5\n",
    ")\n",
    "plt.show()"
   ],
   "id": "bb5b56addcf2d16d",
   "outputs": [
    {
     "data": {
      "text/plain": [
       "<Figure size 640x480 with 2 Axes>"
      ],
      "image/png": "[encoded data removed]"
     },
     "metadata": {},
     "output_type": "display_data"
    }
   ],
   "execution_count": 71
  },
  {
   "metadata": {},
   "cell_type": "markdown",
   "source": "## Classification",
   "id": "e72d174345e9cd54"
  },
  {
   "metadata": {
    "ExecuteTime": {
     "end_time": "2025-02-05T20:20:39.440933Z",
     "start_time": "2025-02-05T20:20:39.379096Z"
    }
   },
   "cell_type": "code",
   "source": [
    "x_columns = [col for col in df.columns.tolist() if col not in [\"url\", \"type\"]]\n",
    "y_column = \"type\"\n",
    "\n",
    "X = df[x_columns]\n",
    "y = df[y_column]"
   ],
   "id": "6316cc0dfba876c7",
   "outputs": [],
   "execution_count": 34
  },
  {
   "metadata": {
    "ExecuteTime": {
     "end_time": "2025-02-05T20:20:42.232250Z",
     "start_time": "2025-02-05T20:20:39.486569Z"
    }
   },
   "cell_type": "code",
   "source": [
    "rus = RandomUnderSampler(random_state=13)\n",
    "X, y = rus.fit_resample(X, y)\n",
    "\n",
    "X_train, X_test, y_train, y_test = train_test_split(X, y, test_size=0.2, random_state=13)\n",
    "X_val, X_test, y_val, y_test = train_test_split(X_test, y_test, test_size=0.2, random_state=13)"
   ],
   "id": "ebde09db1a90b6fe",
   "outputs": [],
   "execution_count": 35
  },
  {
   "metadata": {
    "ExecuteTime": {
     "end_time": "2025-02-05T20:20:56.485905Z",
     "start_time": "2025-02-05T20:20:42.524865Z"
    }
   },
   "cell_type": "code",
   "source": [
    "logistic_regression = LogisticRegression(random_state=13, max_iter=10000)\n",
    "\n",
    "cv_results = cross_validate(logistic_regression, X_train, y_train, cv=5, return_estimator=True)"
   ],
   "id": "a02e38e3e558723a",
   "outputs": [],
   "execution_count": 36
  },
  {
   "metadata": {
    "ExecuteTime": {
     "end_time": "2025-02-05T20:20:56.823732Z",
     "start_time": "2025-02-05T20:20:56.816747Z"
    }
   },
   "cell_type": "code",
   "source": "coefs = np.array([estimator.coef_[0] for estimator in cv_results[\"estimator\"]])",
   "id": "d7caa380e0e9e5e6",
   "outputs": [],
   "execution_count": 37
  },
  {
   "metadata": {
    "ExecuteTime": {
     "end_time": "2025-02-05T20:20:57.353291Z",
     "start_time": "2025-02-05T20:20:57.344526Z"
    }
   },
   "cell_type": "code",
   "source": "cv_results[\"test_score\"]",
   "id": "c741aded0d0435e6",
   "outputs": [
    {
     "data": {
      "text/plain": [
       "array([0.69062605, 0.68860808, 0.68995339, 0.6906741 , 0.68177013])"
      ]
     },
     "execution_count": 38,
     "metadata": {},
     "output_type": "execute_result"
    }
   ],
   "execution_count": 38
  },
  {
   "metadata": {
    "ExecuteTime": {
     "end_time": "2025-02-05T20:20:57.395629Z",
     "start_time": "2025-02-05T20:20:57.389410Z"
    }
   },
   "cell_type": "code",
   "source": "best_estimator_index = np.argmax(cv_results[\"test_score\"])",
   "id": "8335df120e6da146",
   "outputs": [],
   "execution_count": 39
  },
  {
   "metadata": {
    "ExecuteTime": {
     "end_time": "2025-02-05T20:20:58.066507Z",
     "start_time": "2025-02-05T20:20:57.689471Z"
    }
   },
   "cell_type": "code",
   "source": [
    "mean_coefs = np.mean(coefs, axis=0)\n",
    "\n",
    "plt.figure(figsize=(10, 6))\n",
    "sns.barplot(x=mean_coefs, y=X.columns, orient=\"h\")\n",
    "plt.xlabel(\"Coefficient Value\")\n",
    "plt.ylabel(\"Feature\")\n",
    "plt.title(\"Mean Logistic Regression Coefficients Across CV Folds\")\n",
    "plt.show()"
   ],
   "id": "3211412a15874335",
   "outputs": [
    {
     "data": {
      "text/plain": [
       "<Figure size 1000x600 with 1 Axes>"
      ],
      "image/png": "[encoded data removed]"
     },
     "metadata": {},
     "output_type": "display_data"
    }
   ],
   "execution_count": 40
  },
  {
   "metadata": {
    "ExecuteTime": {
     "end_time": "2025-02-05T21:31:44.909741Z",
     "start_time": "2025-02-05T21:31:44.860008Z"
    }
   },
   "cell_type": "code",
   "source": [
    "logistic_regression = cv_results[\"estimator\"][best_estimator_index]\n",
    "y_pred = logistic_regression.predict(X_test)\n",
    "print(classification_report(y_test, y_pred))"
   ],
   "id": "d8b88184ba3d8150",
   "outputs": [
    {
     "name": "stdout",
     "output_type": "stream",
     "text": [
      "              precision    recall  f1-score   support\n",
      "\n",
      "      benign       0.70      0.45      0.55      1301\n",
      "  defacement       0.76      0.97      0.85      1308\n",
      "     malware       0.79      0.73      0.76      1255\n",
      "    phishing       0.58      0.66      0.62      1340\n",
      "\n",
      "    accuracy                           0.70      5204\n",
      "   macro avg       0.71      0.70      0.69      5204\n",
      "weighted avg       0.71      0.70      0.69      5204\n",
      "\n"
     ]
    }
   ],
   "execution_count": 69
  },
  {
   "metadata": {
    "ExecuteTime": {
     "end_time": "2025-02-05T20:20:58.767615Z",
     "start_time": "2025-02-05T20:20:58.751136Z"
    }
   },
   "cell_type": "code",
   "source": [
    "cm = ConfusionMatrix(y_test.tolist(), y_pred.tolist())\n",
    "cm.print_matrix()"
   ],
   "id": "756555823cfdcdee",
   "outputs": [
    {
     "name": "stdout",
     "output_type": "stream",
     "text": [
      "Predict          benign           defacement       malware          phishing         \n",
      "Actual\n",
      "benign           588              40               113              560              \n",
      "\n",
      "defacement       7                1269             22               10               \n",
      "\n",
      "malware          51               211              921              72               \n",
      "\n",
      "phishing         199              148              109              884              \n",
      "\n",
      "\n"
     ]
    }
   ],
   "execution_count": 42
  },
  {
   "metadata": {},
   "cell_type": "markdown",
   "source": "### K-Nearest Neighbours",
   "id": "ed9da3db4ccc0a9f"
  },
  {
   "metadata": {
    "ExecuteTime": {
     "end_time": "2025-02-05T20:42:21.960543900Z",
     "start_time": "2025-02-05T20:20:59.074855Z"
    }
   },
   "cell_type": "code",
   "source": [
    "knn = None\n",
    "best_score = -1\n",
    "scores = {}\n",
    "\n",
    "for k in range(1, 30):\n",
    "    current_model = KNeighborsClassifier(k)\n",
    "    current_model.fit(X_train, y_train)\n",
    "\n",
    "    score = current_model.score(X_val, y_val)\n",
    "\n",
    "    if score > best_score:\n",
    "        best_score = score\n",
    "        knn = current_model\n",
    "\n",
    "    scores[str(k)] = score\n",
    "\n",
    "plt.plot(list(scores.keys()), list(scores.values()))\n",
    "plt.show()\n",
    "\n",
    "print(f\"Best value for K: {knn.get_params()['n_neighbors']}\")"
   ],
   "id": "89dfddb04442bae3",
   "outputs": [
    {
     "data": {
      "text/plain": [
       "<Figure size 640x480 with 1 Axes>"
      ],
      "image/png": "[encoded data removed]"
     },
     "metadata": {},
     "output_type": "display_data"
    },
    {
     "name": "stdout",
     "output_type": "stream",
     "text": [
      "Best value for K: 5\n"
     ]
    }
   ],
   "execution_count": 43
  },
  {
   "metadata": {
    "ExecuteTime": {
     "end_time": "2025-02-05T20:23:02.775655Z",
     "start_time": "2025-02-05T20:23:01.883519Z"
    }
   },
   "cell_type": "code",
   "source": [
    "y_pred = knn.predict(X_test)\n",
    "print(classification_report(y_test, y_pred))"
   ],
   "id": "616ad3b141e23553",
   "outputs": [
    {
     "name": "stdout",
     "output_type": "stream",
     "text": [
      "              precision    recall  f1-score   support\n",
      "\n",
      "      benign       0.84      0.84      0.84      1301\n",
      "  defacement       0.91      0.97      0.94      1308\n",
      "     malware       0.95      0.92      0.93      1255\n",
      "    phishing       0.80      0.79      0.80      1340\n",
      "\n",
      "    accuracy                           0.88      5204\n",
      "   macro avg       0.88      0.88      0.88      5204\n",
      "weighted avg       0.88      0.88      0.88      5204\n",
      "\n"
     ]
    }
   ],
   "execution_count": 44
  },
  {
   "metadata": {
    "ExecuteTime": {
     "end_time": "2025-02-05T20:23:02.803565Z",
     "start_time": "2025-02-05T20:23:02.787689Z"
    }
   },
   "cell_type": "code",
   "source": [
    "cm = ConfusionMatrix(y_test.tolist(), y_pred.tolist())\n",
    "cm.print_matrix()"
   ],
   "id": "fd8f2727772a1b6a",
   "outputs": [
    {
     "name": "stdout",
     "output_type": "stream",
     "text": [
      "Predict          benign           defacement       malware          phishing         \n",
      "Actual\n",
      "benign           1092             20               8                181              \n",
      "\n",
      "defacement       7                1265             15               21               \n",
      "\n",
      "malware          9                41               1151             54               \n",
      "\n",
      "phishing         192              57               35               1056             \n",
      "\n",
      "\n"
     ]
    }
   ],
   "execution_count": 45
  },
  {
   "metadata": {},
   "cell_type": "markdown",
   "source": "### Decision Tree",
   "id": "92afbe2302c1405b"
  },
  {
   "metadata": {
    "ExecuteTime": {
     "end_time": "2025-02-05T20:39:06.298986Z",
     "start_time": "2025-02-05T20:38:55.798260Z"
    }
   },
   "cell_type": "code",
   "source": [
    "criterion = [\"gini\", \"entropy\"]\n",
    "max_features = [1, \"sqrt\", \"log2\"]\n",
    "max_depths = [None, 1, 2, 3, 4, 5, 8, 10, 15, 20, 50]\n",
    "\n",
    "best_score = -1\n",
    "\n",
    "for f, d, c in product(max_features, max_depths, criterion):\n",
    "    current_model = DecisionTreeClassifier(criterion=c, max_features=f, max_depth=d)\n",
    "    current_model.fit(X_train, y_train)\n",
    "    y_pred = current_model.predict(X_val)\n",
    "\n",
    "    if f1_score(y_val, y_pred, average=\"weighted\") > best_score:\n",
    "        decision_tree = current_model\n",
    "        best_score = f1_score(y_val, y_pred, average=\"weighted\")"
   ],
   "id": "e5dbedc21d96f9a6",
   "outputs": [],
   "execution_count": 54
  },
  {
   "metadata": {
    "ExecuteTime": {
     "end_time": "2025-02-05T20:39:16.145345Z",
     "start_time": "2025-02-05T20:39:16.096519Z"
    }
   },
   "cell_type": "code",
   "source": [
    "y_pred = decision_tree.predict(X_test)\n",
    "print(classification_report(y_test, y_pred))"
   ],
   "id": "7ecdca370c92dbee",
   "outputs": [
    {
     "name": "stdout",
     "output_type": "stream",
     "text": [
      "              precision    recall  f1-score   support\n",
      "\n",
      "      benign       0.84      0.82      0.83      1301\n",
      "  defacement       0.93      0.95      0.94      1308\n",
      "     malware       0.96      0.93      0.94      1255\n",
      "    phishing       0.77      0.80      0.79      1340\n",
      "\n",
      "    accuracy                           0.87      5204\n",
      "   macro avg       0.88      0.87      0.87      5204\n",
      "weighted avg       0.87      0.87      0.87      5204\n",
      "\n"
     ]
    }
   ],
   "execution_count": 55
  },
  {
   "metadata": {
    "ExecuteTime": {
     "end_time": "2025-02-05T20:39:18.845389Z",
     "start_time": "2025-02-05T20:39:18.830662Z"
    }
   },
   "cell_type": "code",
   "source": [
    "cm = ConfusionMatrix(y_test.tolist(), y_pred.tolist())\n",
    "cm.print_matrix()"
   ],
   "id": "6ad96539c4a60b59",
   "outputs": [
    {
     "name": "stdout",
     "output_type": "stream",
     "text": [
      "Predict          benign           defacement       malware          phishing         \n",
      "Actual\n",
      "benign           1071             13               4                213              \n",
      "\n",
      "defacement       9                1240             14               45               \n",
      "\n",
      "malware          9                28               1162             56               \n",
      "\n",
      "phishing         180              55               34               1071             \n",
      "\n",
      "\n"
     ]
    }
   ],
   "execution_count": 56
  },
  {
   "metadata": {},
   "cell_type": "markdown",
   "source": "### Random Forest",
   "id": "86517acfa1fa548c"
  },
  {
   "metadata": {
    "ExecuteTime": {
     "end_time": "2025-02-05T21:04:00.773334Z",
     "start_time": "2025-02-05T20:42:51.425768Z"
    }
   },
   "cell_type": "code",
   "source": [
    "criterion = [\"gini\", \"entropy\"]\n",
    "n_estimators = [1, 2, 5, 10, 20, 50, 100, 200]\n",
    "max_features = [1, \"sqrt\", \"log2\"]\n",
    "max_depths = [None, 1, 2, 4, 8, 10, 15, 20]\n",
    "\n",
    "best_score = -1\n",
    "\n",
    "for n, f, d, c in product(n_estimators, max_features, max_depths, criterion):\n",
    "    current_model = RandomForestClassifier(n_estimators=n, criterion=c, max_features=f, max_depth=d)\n",
    "    current_model.fit(X_train, y_train)\n",
    "    y_pred = current_model.predict(X_val)\n",
    "\n",
    "    if f1_score(y_val, y_pred, average=\"weighted\") > best_score:\n",
    "        random_forest = current_model\n",
    "        best_score = f1_score(y_val, y_pred, average=\"weighted\")"
   ],
   "id": "d6726bdb86d54ecd",
   "outputs": [],
   "execution_count": 59
  },
  {
   "metadata": {
    "ExecuteTime": {
     "end_time": "2025-02-05T21:04:01.559539Z",
     "start_time": "2025-02-05T21:04:01.053258Z"
    }
   },
   "cell_type": "code",
   "source": [
    "y_pred = random_forest.predict(X_test)\n",
    "print(classification_report(y_test, y_pred))"
   ],
   "id": "d7628d1e0c7d475e",
   "outputs": [
    {
     "name": "stdout",
     "output_type": "stream",
     "text": [
      "              precision    recall  f1-score   support\n",
      "\n",
      "      benign       0.87      0.87      0.87      1301\n",
      "  defacement       0.93      0.98      0.95      1308\n",
      "     malware       0.97      0.93      0.95      1255\n",
      "    phishing       0.83      0.82      0.83      1340\n",
      "\n",
      "    accuracy                           0.90      5204\n",
      "   macro avg       0.90      0.90      0.90      5204\n",
      "weighted avg       0.90      0.90      0.90      5204\n",
      "\n"
     ]
    }
   ],
   "execution_count": 60
  },
  {
   "metadata": {
    "ExecuteTime": {
     "end_time": "2025-02-05T21:04:01.780411Z",
     "start_time": "2025-02-05T21:04:01.761337Z"
    }
   },
   "cell_type": "code",
   "source": [
    "cm = ConfusionMatrix(y_test.tolist(), y_pred.tolist())\n",
    "cm.print_matrix()"
   ],
   "id": "29fc5afd9543a3ae",
   "outputs": [
    {
     "name": "stdout",
     "output_type": "stream",
     "text": [
      "Predict          benign           defacement       malware          phishing         \n",
      "Actual\n",
      "benign           1132             12               3                154              \n",
      "\n",
      "defacement       5                1276             9                18               \n",
      "\n",
      "malware          6                32               1166             51               \n",
      "\n",
      "phishing         161              52               22               1105             \n",
      "\n",
      "\n"
     ]
    }
   ],
   "execution_count": 61
  },
  {
   "metadata": {},
   "cell_type": "markdown",
   "source": "### Gradient Boosting",
   "id": "ffee5782443ad510"
  },
  {
   "metadata": {
    "ExecuteTime": {
     "end_time": "2025-02-05T21:04:01.800041Z",
     "start_time": "2025-02-05T21:04:01.792643Z"
    }
   },
   "cell_type": "code",
   "source": [
    "parameters = {\n",
    "    \"n_estimators\": [1, 2, 5, 10, 20, 50, 100],\n",
    "    \"max_depth\": [2, 3, 4, 5, 6]\n",
    "}"
   ],
   "id": "f155a34d1bdd704f",
   "outputs": [],
   "execution_count": 62
  },
  {
   "metadata": {
    "ExecuteTime": {
     "end_time": "2025-02-05T21:27:11.646471Z",
     "start_time": "2025-02-05T21:04:01.961868Z"
    }
   },
   "cell_type": "code",
   "source": [
    "gradient_boosting = GridSearchCV(\n",
    "    GradientBoostingClassifier(),\n",
    "    parameters\n",
    ")\n",
    "\n",
    "gradient_boosting.fit(X_train,y_train)"
   ],
   "id": "1494ae78af3c6772",
   "outputs": [
    {
     "data": {
      "text/plain": [
       "GridSearchCV(estimator=GradientBoostingClassifier(),\n",
       "             param_grid={'max_depth': [2, 3, 4, 5, 6],\n",
       "                         'n_estimators': [1, 2, 5, 10, 20, 50, 100]})"
      ],
      "text/html": [
       "<style>#sk-container-id-1 {\n",
       "  /* Definition of color scheme common for light and dark mode */\n",
       "  --sklearn-color-text: #000;\n",
       "  --sklearn-color-text-muted: #666;\n",
       "  --sklearn-color-line: gray;\n",
       "  /* Definition of color scheme for unfitted estimators */\n",
       "  --sklearn-color-unfitted-level-0: #fff5e6;\n",
       "  --sklearn-color-unfitted-level-1: #f6e4d2;\n",
       "  --sklearn-color-unfitted-level-2: #ffe0b3;\n",
       "  --sklearn-color-unfitted-level-3: chocolate;\n",
       "  /* Definition of color scheme for fitted estimators */\n",
       "  --sklearn-color-fitted-level-0: #f0f8ff;\n",
       "  --sklearn-color-fitted-level-1: #d4ebff;\n",
       "  --sklearn-color-fitted-level-2: #b3dbfd;\n",
       "  --sklearn-color-fitted-level-3: cornflowerblue;\n",
       "\n",
       "  /* Specific color for light theme */\n",
       "  --sklearn-color-text-on-default-background: var(--sg-text-color, var(--theme-code-foreground, var(--jp-content-font-color1, black)));\n",
       "  --sklearn-color-background: var(--sg-background-color, var(--theme-background, var(--jp-layout-color0, white)));\n",
       "  --sklearn-color-border-box: var(--sg-text-color, var(--theme-code-foreground, var(--jp-content-font-color1, black)));\n",
       "  --sklearn-color-icon: #696969;\n",
       "\n",
       "  @media (prefers-color-scheme: dark) {\n",
       "    /* Redefinition of color scheme for dark theme */\n",
       "    --sklearn-color-text-on-default-background: var(--sg-text-color, var(--theme-code-foreground, var(--jp-content-font-color1, white)));\n",
       "    --sklearn-color-background: var(--sg-background-color, var(--theme-background, var(--jp-layout-color0, #111)));\n",
       "    --sklearn-color-border-box: var(--sg-text-color, var(--theme-code-foreground, var(--jp-content-font-color1, white)));\n",
       "    --sklearn-color-icon: #878787;\n",
       "  }\n",
       "}\n",
       "\n",
       "#sk-container-id-1 {\n",
       "  color: var(--sklearn-color-text);\n",
       "}\n",
       "\n",
       "#sk-container-id-1 pre {\n",
       "  padding: 0;\n",
       "}\n",
       "\n",
       "#sk-container-id-1 input.sk-hidden--visually {\n",
       "  border: 0;\n",
       "  clip: rect(1px 1px 1px 1px);\n",
       "  clip: rect(1px, 1px, 1px, 1px);\n",
       "  height: 1px;\n",
       "  margin: -1px;\n",
       "  overflow: hidden;\n",
       "  padding: 0;\n",
       "  position: absolute;\n",
       "  width: 1px;\n",
       "}\n",
       "\n",
       "#sk-container-id-1 div.sk-dashed-wrapped {\n",
       "  border: 1px dashed var(--sklearn-color-line);\n",
       "  margin: 0 0.4em 0.5em 0.4em;\n",
       "  box-sizing: border-box;\n",
       "  padding-bottom: 0.4em;\n",
       "  background-color: var(--sklearn-color-background);\n",
       "}\n",
       "\n",
       "#sk-container-id-1 div.sk-container {\n",
       "  /* jupyter's `normalize.less` sets `[hidden] { display: none; }`\n",
       "     but bootstrap.min.css set `[hidden] { display: none !important; }`\n",
       "     so we also need the `!important` here to be able to override the\n",
       "     default hidden behavior on the sphinx rendered scikit-learn.org.\n",
       "     See: https://github.com/scikit-learn/scikit-learn/issues/21755 */\n",
       "  display: inline-block !important;\n",
       "  position: relative;\n",
       "}\n",
       "\n",
       "#sk-container-id-1 div.sk-text-repr-fallback {\n",
       "  display: none;\n",
       "}\n",
       "\n",
       "div.sk-parallel-item,\n",
       "div.sk-serial,\n",
       "div.sk-item {\n",
       "  /* draw centered vertical line to link estimators */\n",
       "  background-image: linear-gradient(var(--sklearn-color-text-on-default-background), var(--sklearn-color-text-on-default-background));\n",
       "  background-size: 2px 100%;\n",
       "  background-repeat: no-repeat;\n",
       "  background-position: center center;\n",
       "}\n",
       "\n",
       "/* Parallel-specific style estimator block */\n",
       "\n",
       "#sk-container-id-1 div.sk-parallel-item::after {\n",
       "  content: \"\";\n",
       "  width: 100%;\n",
       "  border-bottom: 2px solid var(--sklearn-color-text-on-default-background);\n",
       "  flex-grow: 1;\n",
       "}\n",
       "\n",
       "#sk-container-id-1 div.sk-parallel {\n",
       "  display: flex;\n",
       "  align-items: stretch;\n",
       "  justify-content: center;\n",
       "  background-color: var(--sklearn-color-background);\n",
       "  position: relative;\n",
       "}\n",
       "\n",
       "#sk-container-id-1 div.sk-parallel-item {\n",
       "  display: flex;\n",
       "  flex-direction: column;\n",
       "}\n",
       "\n",
       "#sk-container-id-1 div.sk-parallel-item:first-child::after {\n",
       "  align-self: flex-end;\n",
       "  width: 50%;\n",
       "}\n",
       "\n",
       "#sk-container-id-1 div.sk-parallel-item:last-child::after {\n",
       "  align-self: flex-start;\n",
       "  width: 50%;\n",
       "}\n",
       "\n",
       "#sk-container-id-1 div.sk-parallel-item:only-child::after {\n",
       "  width: 0;\n",
       "}\n",
       "\n",
       "/* Serial-specific style estimator block */\n",
       "\n",
       "#sk-container-id-1 div.sk-serial {\n",
       "  display: flex;\n",
       "  flex-direction: column;\n",
       "  align-items: center;\n",
       "  background-color: var(--sklearn-color-background);\n",
       "  padding-right: 1em;\n",
       "  padding-left: 1em;\n",
       "}\n",
       "\n",
       "\n",
       "/* Toggleable style: style used for estimator/Pipeline/ColumnTransformer box that is\n",
       "clickable and can be expanded/collapsed.\n",
       "- Pipeline and ColumnTransformer use this feature and define the default style\n",
       "- Estimators will overwrite some part of the style using the `sk-estimator` class\n",
       "*/\n",
       "\n",
       "/* Pipeline and ColumnTransformer style (default) */\n",
       "\n",
       "#sk-container-id-1 div.sk-toggleable {\n",
       "  /* Default theme specific background. It is overwritten whether we have a\n",
       "  specific estimator or a Pipeline/ColumnTransformer */\n",
       "  background-color: var(--sklearn-color-background);\n",
       "}\n",
       "\n",
       "/* Toggleable label */\n",
       "#sk-container-id-1 label.sk-toggleable__label {\n",
       "  cursor: pointer;\n",
       "  display: flex;\n",
       "  width: 100%;\n",
       "  margin-bottom: 0;\n",
       "  padding: 0.5em;\n",
       "  box-sizing: border-box;\n",
       "  text-align: center;\n",
       "  align-items: start;\n",
       "  justify-content: space-between;\n",
       "  gap: 0.5em;\n",
       "}\n",
       "\n",
       "#sk-container-id-1 label.sk-toggleable__label .caption {\n",
       "  font-size: 0.6rem;\n",
       "  font-weight: lighter;\n",
       "  color: var(--sklearn-color-text-muted);\n",
       "}\n",
       "\n",
       "#sk-container-id-1 label.sk-toggleable__label-arrow:before {\n",
       "  /* Arrow on the left of the label */\n",
       "  content: \"▸\";\n",
       "  float: left;\n",
       "  margin-right: 0.25em;\n",
       "  color: var(--sklearn-color-icon);\n",
       "}\n",
       "\n",
       "#sk-container-id-1 label.sk-toggleable__label-arrow:hover:before {\n",
       "  color: var(--sklearn-color-text);\n",
       "}\n",
       "\n",
       "/* Toggleable content - dropdown */\n",
       "\n",
       "#sk-container-id-1 div.sk-toggleable__content {\n",
       "  max-height: 0;\n",
       "  max-width: 0;\n",
       "  overflow: hidden;\n",
       "  text-align: left;\n",
       "  /* unfitted */\n",
       "  background-color: var(--sklearn-color-unfitted-level-0);\n",
       "}\n",
       "\n",
       "#sk-container-id-1 div.sk-toggleable__content.fitted {\n",
       "  /* fitted */\n",
       "  background-color: var(--sklearn-color-fitted-level-0);\n",
       "}\n",
       "\n",
       "#sk-container-id-1 div.sk-toggleable__content pre {\n",
       "  margin: 0.2em;\n",
       "  border-radius: 0.25em;\n",
       "  color: var(--sklearn-color-text);\n",
       "  /* unfitted */\n",
       "  background-color: var(--sklearn-color-unfitted-level-0);\n",
       "}\n",
       "\n",
       "#sk-container-id-1 div.sk-toggleable__content.fitted pre {\n",
       "  /* unfitted */\n",
       "  background-color: var(--sklearn-color-fitted-level-0);\n",
       "}\n",
       "\n",
       "#sk-container-id-1 input.sk-toggleable__control:checked~div.sk-toggleable__content {\n",
       "  /* Expand drop-down */\n",
       "  max-height: 200px;\n",
       "  max-width: 100%;\n",
       "  overflow: auto;\n",
       "}\n",
       "\n",
       "#sk-container-id-1 input.sk-toggleable__control:checked~label.sk-toggleable__label-arrow:before {\n",
       "  content: \"▾\";\n",
       "}\n",
       "\n",
       "/* Pipeline/ColumnTransformer-specific style */\n",
       "\n",
       "#sk-container-id-1 div.sk-label input.sk-toggleable__control:checked~label.sk-toggleable__label {\n",
       "  color: var(--sklearn-color-text);\n",
       "  background-color: var(--sklearn-color-unfitted-level-2);\n",
       "}\n",
       "\n",
       "#sk-container-id-1 div.sk-label.fitted input.sk-toggleable__control:checked~label.sk-toggleable__label {\n",
       "  background-color: var(--sklearn-color-fitted-level-2);\n",
       "}\n",
       "\n",
       "/* Estimator-specific style */\n",
       "\n",
       "/* Colorize estimator box */\n",
       "#sk-container-id-1 div.sk-estimator input.sk-toggleable__control:checked~label.sk-toggleable__label {\n",
       "  /* unfitted */\n",
       "  background-color: var(--sklearn-color-unfitted-level-2);\n",
       "}\n",
       "\n",
       "#sk-container-id-1 div.sk-estimator.fitted input.sk-toggleable__control:checked~label.sk-toggleable__label {\n",
       "  /* fitted */\n",
       "  background-color: var(--sklearn-color-fitted-level-2);\n",
       "}\n",
       "\n",
       "#sk-container-id-1 div.sk-label label.sk-toggleable__label,\n",
       "#sk-container-id-1 div.sk-label label {\n",
       "  /* The background is the default theme color */\n",
       "  color: var(--sklearn-color-text-on-default-background);\n",
       "}\n",
       "\n",
       "/* On hover, darken the color of the background */\n",
       "#sk-container-id-1 div.sk-label:hover label.sk-toggleable__label {\n",
       "  color: var(--sklearn-color-text);\n",
       "  background-color: var(--sklearn-color-unfitted-level-2);\n",
       "}\n",
       "\n",
       "/* Label box, darken color on hover, fitted */\n",
       "#sk-container-id-1 div.sk-label.fitted:hover label.sk-toggleable__label.fitted {\n",
       "  color: var(--sklearn-color-text);\n",
       "  background-color: var(--sklearn-color-fitted-level-2);\n",
       "}\n",
       "\n",
       "/* Estimator label */\n",
       "\n",
       "#sk-container-id-1 div.sk-label label {\n",
       "  font-family: monospace;\n",
       "  font-weight: bold;\n",
       "  display: inline-block;\n",
       "  line-height: 1.2em;\n",
       "}\n",
       "\n",
       "#sk-container-id-1 div.sk-label-container {\n",
       "  text-align: center;\n",
       "}\n",
       "\n",
       "/* Estimator-specific */\n",
       "#sk-container-id-1 div.sk-estimator {\n",
       "  font-family: monospace;\n",
       "  border: 1px dotted var(--sklearn-color-border-box);\n",
       "  border-radius: 0.25em;\n",
       "  box-sizing: border-box;\n",
       "  margin-bottom: 0.5em;\n",
       "  /* unfitted */\n",
       "  background-color: var(--sklearn-color-unfitted-level-0);\n",
       "}\n",
       "\n",
       "#sk-container-id-1 div.sk-estimator.fitted {\n",
       "  /* fitted */\n",
       "  background-color: var(--sklearn-color-fitted-level-0);\n",
       "}\n",
       "\n",
       "/* on hover */\n",
       "#sk-container-id-1 div.sk-estimator:hover {\n",
       "  /* unfitted */\n",
       "  background-color: var(--sklearn-color-unfitted-level-2);\n",
       "}\n",
       "\n",
       "#sk-container-id-1 div.sk-estimator.fitted:hover {\n",
       "  /* fitted */\n",
       "  background-color: var(--sklearn-color-fitted-level-2);\n",
       "}\n",
       "\n",
       "/* Specification for estimator info (e.g. \"i\" and \"?\") */\n",
       "\n",
       "/* Common style for \"i\" and \"?\" */\n",
       "\n",
       ".sk-estimator-doc-link,\n",
       "a:link.sk-estimator-doc-link,\n",
       "a:visited.sk-estimator-doc-link {\n",
       "  float: right;\n",
       "  font-size: smaller;\n",
       "  line-height: 1em;\n",
       "  font-family: monospace;\n",
       "  background-color: var(--sklearn-color-background);\n",
       "  border-radius: 1em;\n",
       "  height: 1em;\n",
       "  width: 1em;\n",
       "  text-decoration: none !important;\n",
       "  margin-left: 0.5em;\n",
       "  text-align: center;\n",
       "  /* unfitted */\n",
       "  border: var(--sklearn-color-unfitted-level-1) 1pt solid;\n",
       "  color: var(--sklearn-color-unfitted-level-1);\n",
       "}\n",
       "\n",
       ".sk-estimator-doc-link.fitted,\n",
       "a:link.sk-estimator-doc-link.fitted,\n",
       "a:visited.sk-estimator-doc-link.fitted {\n",
       "  /* fitted */\n",
       "  border: var(--sklearn-color-fitted-level-1) 1pt solid;\n",
       "  color: var(--sklearn-color-fitted-level-1);\n",
       "}\n",
       "\n",
       "/* On hover */\n",
       "div.sk-estimator:hover .sk-estimator-doc-link:hover,\n",
       ".sk-estimator-doc-link:hover,\n",
       "div.sk-label-container:hover .sk-estimator-doc-link:hover,\n",
       ".sk-estimator-doc-link:hover {\n",
       "  /* unfitted */\n",
       "  background-color: var(--sklearn-color-unfitted-level-3);\n",
       "  color: var(--sklearn-color-background);\n",
       "  text-decoration: none;\n",
       "}\n",
       "\n",
       "div.sk-estimator.fitted:hover .sk-estimator-doc-link.fitted:hover,\n",
       ".sk-estimator-doc-link.fitted:hover,\n",
       "div.sk-label-container:hover .sk-estimator-doc-link.fitted:hover,\n",
       ".sk-estimator-doc-link.fitted:hover {\n",
       "  /* fitted */\n",
       "  background-color: var(--sklearn-color-fitted-level-3);\n",
       "  color: var(--sklearn-color-background);\n",
       "  text-decoration: none;\n",
       "}\n",
       "\n",
       "/* Span, style for the box shown on hovering the info icon */\n",
       ".sk-estimator-doc-link span {\n",
       "  display: none;\n",
       "  z-index: 9999;\n",
       "  position: relative;\n",
       "  font-weight: normal;\n",
       "  right: .2ex;\n",
       "  padding: .5ex;\n",
       "  margin: .5ex;\n",
       "  width: min-content;\n",
       "  min-width: 20ex;\n",
       "  max-width: 50ex;\n",
       "  color: var(--sklearn-color-text);\n",
       "  box-shadow: 2pt 2pt 4pt #999;\n",
       "  /* unfitted */\n",
       "  background: var(--sklearn-color-unfitted-level-0);\n",
       "  border: .5pt solid var(--sklearn-color-unfitted-level-3);\n",
       "}\n",
       "\n",
       ".sk-estimator-doc-link.fitted span {\n",
       "  /* fitted */\n",
       "  background: var(--sklearn-color-fitted-level-0);\n",
       "  border: var(--sklearn-color-fitted-level-3);\n",
       "}\n",
       "\n",
       ".sk-estimator-doc-link:hover span {\n",
       "  display: block;\n",
       "}\n",
       "\n",
       "/* \"?\"-specific style due to the `<a>` HTML tag */\n",
       "\n",
       "#sk-container-id-1 a.estimator_doc_link {\n",
       "  float: right;\n",
       "  font-size: 1rem;\n",
       "  line-height: 1em;\n",
       "  font-family: monospace;\n",
       "  background-color: var(--sklearn-color-background);\n",
       "  border-radius: 1rem;\n",
       "  height: 1rem;\n",
       "  width: 1rem;\n",
       "  text-decoration: none;\n",
       "  /* unfitted */\n",
       "  color: var(--sklearn-color-unfitted-level-1);\n",
       "  border: var(--sklearn-color-unfitted-level-1) 1pt solid;\n",
       "}\n",
       "\n",
       "#sk-container-id-1 a.estimator_doc_link.fitted {\n",
       "  /* fitted */\n",
       "  border: var(--sklearn-color-fitted-level-1) 1pt solid;\n",
       "  color: var(--sklearn-color-fitted-level-1);\n",
       "}\n",
       "\n",
       "/* On hover */\n",
       "#sk-container-id-1 a.estimator_doc_link:hover {\n",
       "  /* unfitted */\n",
       "  background-color: var(--sklearn-color-unfitted-level-3);\n",
       "  color: var(--sklearn-color-background);\n",
       "  text-decoration: none;\n",
       "}\n",
       "\n",
       "#sk-container-id-1 a.estimator_doc_link.fitted:hover {\n",
       "  /* fitted */\n",
       "  background-color: var(--sklearn-color-fitted-level-3);\n",
       "}\n",
       "</style><div id=\"sk-container-id-1\" class=\"sk-top-container\"><div class=\"sk-text-repr-fallback\"><pre>GridSearchCV(estimator=GradientBoostingClassifier(),\n",
       "             param_grid={&#x27;max_depth&#x27;: [2, 3, 4, 5, 6],\n",
       "                         &#x27;n_estimators&#x27;: [1, 2, 5, 10, 20, 50, 100]})</pre><b>In a Jupyter environment, please rerun this cell to show the HTML representation or trust the notebook. <br />On GitHub, the HTML representation is unable to render, please try loading this page with nbviewer.org.</b></div><div class=\"sk-container\" hidden><div class=\"sk-item sk-dashed-wrapped\"><div class=\"sk-label-container\"><div class=\"sk-label fitted sk-toggleable\"><input class=\"sk-toggleable__control sk-hidden--visually\" id=\"sk-estimator-id-1\" type=\"checkbox\" ><label for=\"sk-estimator-id-1\" class=\"sk-toggleable__label fitted sk-toggleable__label-arrow\"><div><div>GridSearchCV</div></div><div><a class=\"sk-estimator-doc-link fitted\" rel=\"noreferrer\" target=\"_blank\" href=\"https://scikit-learn.org/1.6/modules/generated/sklearn.model_selection.GridSearchCV.html\">?<span>Documentation for GridSearchCV</span></a><span class=\"sk-estimator-doc-link fitted\">i<span>Fitted</span></span></div></label><div class=\"sk-toggleable__content fitted\"><pre>GridSearchCV(estimator=GradientBoostingClassifier(),\n",
       "             param_grid={&#x27;max_depth&#x27;: [2, 3, 4, 5, 6],\n",
       "                         &#x27;n_estimators&#x27;: [1, 2, 5, 10, 20, 50, 100]})</pre></div> </div></div><div class=\"sk-parallel\"><div class=\"sk-parallel-item\"><div class=\"sk-item\"><div class=\"sk-label-container\"><div class=\"sk-label fitted sk-toggleable\"><input class=\"sk-toggleable__control sk-hidden--visually\" id=\"sk-estimator-id-2\" type=\"checkbox\" ><label for=\"sk-estimator-id-2\" class=\"sk-toggleable__label fitted sk-toggleable__label-arrow\"><div><div>best_estimator_: GradientBoostingClassifier</div></div></label><div class=\"sk-toggleable__content fitted\"><pre>GradientBoostingClassifier(max_depth=6)</pre></div> </div></div><div class=\"sk-serial\"><div class=\"sk-item\"><div class=\"sk-estimator fitted sk-toggleable\"><input class=\"sk-toggleable__control sk-hidden--visually\" id=\"sk-estimator-id-3\" type=\"checkbox\" ><label for=\"sk-estimator-id-3\" class=\"sk-toggleable__label fitted sk-toggleable__label-arrow\"><div><div>GradientBoostingClassifier</div></div><div><a class=\"sk-estimator-doc-link fitted\" rel=\"noreferrer\" target=\"_blank\" href=\"https://scikit-learn.org/1.6/modules/generated/sklearn.ensemble.GradientBoostingClassifier.html\">?<span>Documentation for GradientBoostingClassifier</span></a></div></label><div class=\"sk-toggleable__content fitted\"><pre>GradientBoostingClassifier(max_depth=6)</pre></div> </div></div></div></div></div></div></div></div></div>"
      ]
     },
     "execution_count": 63,
     "metadata": {},
     "output_type": "execute_result"
    }
   ],
   "execution_count": 63
  },
  {
   "metadata": {
    "ExecuteTime": {
     "end_time": "2025-02-05T21:27:11.932557Z",
     "start_time": "2025-02-05T21:27:11.851865Z"
    }
   },
   "cell_type": "code",
   "source": [
    "y_pred = gradient_boosting.predict(X_test)\n",
    "print(classification_report(y_test, y_pred))"
   ],
   "id": "5725f190242f523d",
   "outputs": [
    {
     "name": "stdout",
     "output_type": "stream",
     "text": [
      "              precision    recall  f1-score   support\n",
      "\n",
      "      benign       0.85      0.86      0.85      1301\n",
      "  defacement       0.90      0.96      0.93      1308\n",
      "     malware       0.95      0.89      0.92      1255\n",
      "    phishing       0.81      0.79      0.80      1340\n",
      "\n",
      "    accuracy                           0.88      5204\n",
      "   macro avg       0.88      0.88      0.88      5204\n",
      "weighted avg       0.88      0.88      0.87      5204\n",
      "\n"
     ]
    }
   ],
   "execution_count": 64
  },
  {
   "metadata": {
    "ExecuteTime": {
     "end_time": "2025-02-05T21:27:11.946064Z",
     "start_time": "2025-02-05T21:27:11.939413Z"
    }
   },
   "cell_type": "code",
   "source": [
    "cm = ConfusionMatrix(y_test.tolist(), y_pred.tolist())\n",
    "cm.print_matrix()"
   ],
   "id": "f3baaa3c682c0a71",
   "outputs": [
    {
     "name": "stdout",
     "output_type": "stream",
     "text": [
      "Predict          benign           defacement       malware          phishing         \n",
      "Actual\n",
      "benign           1119             16               5                161              \n",
      "\n",
      "defacement       7                1260             22               19               \n",
      "\n",
      "malware          6                62               1123             64               \n",
      "\n",
      "phishing         189              62               37               1052             \n",
      "\n",
      "\n"
     ]
    }
   ],
   "execution_count": 65
  },
  {
   "metadata": {},
   "cell_type": "markdown",
   "source": "## Overall Evaluation",
   "id": "91cf51bdcdc57902"
  },
  {
   "metadata": {
    "ExecuteTime": {
     "end_time": "2025-02-05T21:27:12.046154Z",
     "start_time": "2025-02-05T21:27:12.040966Z"
    }
   },
   "cell_type": "code",
   "source": [
    "def evaluate_model(model, X_test, y_test, X_val, y_val):\n",
    "    y_test_pred = model.predict(X_test)\n",
    "    y_val_pred = model.predict(X_val)\n",
    "    test_accuracy = accuracy_score(y_test, y_test_pred)\n",
    "    test_f1_score = f1_score(y_test, y_test_pred, average=\"weighted\")\n",
    "    val_accuracy = accuracy_score(y_val, y_val_pred)\n",
    "    val_f1_score = f1_score(y_val, y_val_pred, average=\"weighted\")\n",
    "    return test_accuracy, test_f1_score, val_accuracy, val_f1_score"
   ],
   "id": "8b95047105f2eabf",
   "outputs": [],
   "execution_count": 66
  },
  {
   "metadata": {
    "ExecuteTime": {
     "end_time": "2025-02-05T21:31:52.673350Z",
     "start_time": "2025-02-05T21:31:50.108282Z"
    }
   },
   "cell_type": "code",
   "source": [
    "models = [logistic_regression, knn, decision_tree, random_forest, gradient_boosting]\n",
    "\n",
    "results = []\n",
    "for model in models:\n",
    "    test_accuracy, test_f1_score, val_accuracy, val_f1_score = evaluate_model(model, X_test, y_test, X_val, y_val)\n",
    "    results.append({\n",
    "        \"Model\": str(model),\n",
    "        \"Validation Accuracy\": val_accuracy,\n",
    "        \"Validation F1 Score\": val_f1_score,\n",
    "        \"Test Accuracy\": test_accuracy,\n",
    "        \"Test F1 Score\": test_f1_score\n",
    "    })\n",
    "results_df = pd.DataFrame(results)\n",
    "results_df"
   ],
   "id": "2ed7c708c1caab6c",
   "outputs": [
    {
     "data": {
      "text/plain": [
       "                                               Model  Validation Accuracy  \\\n",
       "0  LogisticRegression(max_iter=10000, random_stat...             0.688785   \n",
       "1                             KNeighborsClassifier()             0.874015   \n",
       "2  DecisionTreeClassifier(criterion='entropy', ma...             0.874592   \n",
       "3  RandomForestClassifier(criterion='entropy', ma...             0.897223   \n",
       "4  GridSearchCV(estimator=GradientBoostingClassif...             0.876706   \n",
       "\n",
       "   Validation F1 Score  Test Accuracy  Test F1 Score  \n",
       "0             0.677855       0.703689       0.693758  \n",
       "1             0.873288       0.877018       0.876595  \n",
       "2             0.874498       0.873174       0.873523  \n",
       "3             0.896652       0.899116       0.898985  \n",
       "4             0.875917       0.875096       0.874614  "
      ],
      "text/html": [
       "<div>\n",
       "<style scoped>\n",
       "    .dataframe tbody tr th:only-of-type {\n",
       "        vertical-align: middle;\n",
       "    }\n",
       "\n",
       "    .dataframe tbody tr th {\n",
       "        vertical-align: top;\n",
       "    }\n",
       "\n",
       "    .dataframe thead th {\n",
       "        text-align: right;\n",
       "    }\n",
       "</style>\n",
       "<table border=\"1\" class=\"dataframe\">\n",
       "  <thead>\n",
       "    <tr style=\"text-align: right;\">\n",
       "      <th></th>\n",
       "      <th>Model</th>\n",
       "      <th>Validation Accuracy</th>\n",
       "      <th>Validation F1 Score</th>\n",
       "      <th>Test Accuracy</th>\n",
       "      <th>Test F1 Score</th>\n",
       "    </tr>\n",
       "  </thead>\n",
       "  <tbody>\n",
       "    <tr>\n",
       "      <th>0</th>\n",
       "      <td>LogisticRegression(max_iter=10000, random_stat...</td>\n",
       "      <td>0.688785</td>\n",
       "      <td>0.677855</td>\n",
       "      <td>0.703689</td>\n",
       "      <td>0.693758</td>\n",
       "    </tr>\n",
       "    <tr>\n",
       "      <th>1</th>\n",
       "      <td>KNeighborsClassifier()</td>\n",
       "      <td>0.874015</td>\n",
       "      <td>0.873288</td>\n",
       "      <td>0.877018</td>\n",
       "      <td>0.876595</td>\n",
       "    </tr>\n",
       "    <tr>\n",
       "      <th>2</th>\n",
       "      <td>DecisionTreeClassifier(criterion='entropy', ma...</td>\n",
       "      <td>0.874592</td>\n",
       "      <td>0.874498</td>\n",
       "      <td>0.873174</td>\n",
       "      <td>0.873523</td>\n",
       "    </tr>\n",
       "    <tr>\n",
       "      <th>3</th>\n",
       "      <td>RandomForestClassifier(criterion='entropy', ma...</td>\n",
       "      <td>0.897223</td>\n",
       "      <td>0.896652</td>\n",
       "      <td>0.899116</td>\n",
       "      <td>0.898985</td>\n",
       "    </tr>\n",
       "    <tr>\n",
       "      <th>4</th>\n",
       "      <td>GridSearchCV(estimator=GradientBoostingClassif...</td>\n",
       "      <td>0.876706</td>\n",
       "      <td>0.875917</td>\n",
       "      <td>0.875096</td>\n",
       "      <td>0.874614</td>\n",
       "    </tr>\n",
       "  </tbody>\n",
       "</table>\n",
       "</div>"
      ]
     },
     "execution_count": 70,
     "metadata": {},
     "output_type": "execute_result"
    }
   ],
   "execution_count": 70
  }
 ],
 "metadata": {
  "kernelspec": {
   "display_name": "Python 3",
   "language": "python",
   "name": "python3"
  },
  "language_info": {
   "codemirror_mode": {
    "name": "ipython",
    "version": 2
   },
   "file_extension": ".py",
   "mimetype": "text/x-python",
   "name": "python",
   "nbconvert_exporter": "python",
   "pygments_lexer": "ipython2",
   "version": "2.7.6"
  }
 },
 "nbformat": 4,
 "nbformat_minor": 5
}
